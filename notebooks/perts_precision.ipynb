{
 "cells": [
  {
   "cell_type": "markdown",
   "id": "b7057ae4-c003-484c-9cef-1714492bd787",
   "metadata": {},
   "source": [
    "### Notebook for finding best precision settings for the first order perturbation theory computation"
   ]
  },
  {
   "cell_type": "code",
   "execution_count": 1,
   "id": "b5bc9313-e4ef-4f3b-bed3-40c3e084b3a4",
   "metadata": {},
   "outputs": [],
   "source": [
    "from time import time\n",
    "import numpy as np\n",
    "import matplotlib.pyplot as plt\n",
    "import matplotlib\n",
    "import sys\n",
    "import copy\n",
    "\n",
    "font = {'size'   : 22}\n",
    "matplotlib.rc(\"font\", **font)\n",
    "matplotlib.rc([\"text.usetex\", True])\n",
    "\n",
    "sys.path.insert(0,'../source/')\n",
    "import model \n",
    "import pert_first\n",
    "import perturbation_old\n",
    "import utils"
   ]
  },
  {
   "cell_type": "code",
   "execution_count": 2,
   "id": "cad9a6b2-0874-4c63-b812-34132dc44e41",
   "metadata": {
    "tags": []
   },
   "outputs": [],
   "source": [
    "x_here = np.array([8.0, 0.0, 0.0])\n",
    "mnu = 0.1\n",
    "Tnu = model.Tnu\n",
    "\n",
    "rtol  = 1e-4\n",
    "\n",
    "z_ini = 3.0\n",
    "z_span = np.array([0, z_ini])\n",
    "\n",
    "# base_rtols = [1e-4, 1e-4, 1e-3, 1e-2]\n",
    "base_rtols = [1e-6, 1e-7, 1e-4, 1e-5]\n",
    "rtol_scan = [1e-0, 1e-1, 1e-2, 1e-3, 1e-4, 1e-5, 1e-6, 1e-7, 1e-8, 1e-9] # Scan this list of tolerances for each of z, p, theta, phi\n",
    "\n",
    "Gauss_Laguerre = 20\n",
    "#Gauss_Laguerre = 0\n",
    "#good_rtols = [1e-6, 1e-7, 1e-4, 1e-5]\n",
    "good_rtols = np.array([1e-5, 0.0, 1e-4, 1e-3])\n",
    "atols = np.array([1e-35, 1e-35, 1e-35, 1e-35]) # fixed\n",
    "\n",
    "free_value = 1.06738178968e-10\n",
    "asymptotic_value = 1.292761895e-10"
   ]
  },
  {
   "cell_type": "markdown",
   "id": "20ee6af7-b7eb-4d3c-a15b-f89107dfab70",
   "metadata": {},
   "source": [
    "### Timing a single run "
   ]
  },
  {
   "cell_type": "code",
   "execution_count": 3,
   "id": "52ceef59-e9a9-48cc-98df-9128bfb73d41",
   "metadata": {},
   "outputs": [
    {
     "name": "stderr",
     "output_type": "stream",
     "text": [
      "/Users/au566942/Documents/phd/projects/relic_density/KFT-Neutrinos/notebooks/../source/quadrature.py:40: NumbaWarning: \n",
      "Compilation is falling back to object mode WITH looplifting enabled because Function \"GaussKronrod_adapt\" failed type inference due to: non-precise type pyobject\n",
      "During: typing of argument at /Users/au566942/Documents/phd/projects/relic_density/KFT-Neutrinos/notebooks/../source/quadrature.py (45)\n",
      "\n",
      "File \"../source/quadrature.py\", line 45:\n",
      "def GaussKronrod_adapt(f, a, b, rtol, abstol, f_args, is_indefinite=False):\n",
      "    <source elided>\n",
      "    # To integrate between 0 and infinity, set a=0, b=1 and is_indefinite=True on first call\n",
      "    I, err = GaussKronrod_quad(f, a, b, is_indefinite, f_args)\n",
      "    ^\n",
      "\n",
      "  @jit(nopython=False)\n",
      "/Users/au566942/miniforge3/envs/classpp/lib/python3.10/site-packages/numba/core/object_mode_passes.py:151: NumbaWarning: Function \"GaussKronrod_adapt\" was compiled in object mode without forceobj=True.\n",
      "\n",
      "File \"../source/quadrature.py\", line 41:\n",
      "@jit(nopython=False)\n",
      "def GaussKronrod_adapt(f, a, b, rtol, abstol, f_args, is_indefinite=False):\n",
      "^\n",
      "\n",
      "  warnings.warn(errors.NumbaWarning(warn_msg,\n",
      "/Users/au566942/miniforge3/envs/classpp/lib/python3.10/site-packages/numba/core/object_mode_passes.py:161: NumbaDeprecationWarning: \n",
      "Fall-back from the nopython compilation path to the object mode compilation path has been detected, this is deprecated behaviour.\n",
      "\n",
      "For more information visit https://numba.readthedocs.io/en/stable/reference/deprecation.html#deprecation-of-object-mode-fall-back-behaviour-when-using-jit\n",
      "\n",
      "File \"../source/quadrature.py\", line 41:\n",
      "@jit(nopython=False)\n",
      "def GaussKronrod_adapt(f, a, b, rtol, abstol, f_args, is_indefinite=False):\n",
      "^\n",
      "\n",
      "  warnings.warn(errors.NumbaDeprecationWarning(msg,\n",
      "/Users/au566942/Documents/phd/projects/relic_density/KFT-Neutrinos/notebooks/../source/quadrature.py:5: NumbaWarning: \n",
      "Compilation is falling back to object mode WITH looplifting enabled because Function \"GaussKronrod_quad\" failed type inference due to: non-precise type pyobject\n",
      "During: typing of argument at /Users/au566942/Documents/phd/projects/relic_density/KFT-Neutrinos/notebooks/../source/quadrature.py (8)\n",
      "\n",
      "File \"../source/quadrature.py\", line 8:\n",
      "def GaussKronrod_quad(f, a, b, is_indefinite, f_args):\n",
      "    <source elided>\n",
      "    #f = jit(f)\n",
      "    z_k = np.array([-0.991455371120813, -0.949107912342759, -0.864864423359769, -0.741531185599394, \n",
      "    ^\n",
      "\n",
      "  @jit(nopython=False)\n",
      "/Users/au566942/miniforge3/envs/classpp/lib/python3.10/site-packages/numba/core/object_mode_passes.py:151: NumbaWarning: Function \"GaussKronrod_quad\" was compiled in object mode without forceobj=True.\n",
      "\n",
      "File \"../source/quadrature.py\", line 6:\n",
      "@jit(nopython=False)\n",
      "def GaussKronrod_quad(f, a, b, is_indefinite, f_args):\n",
      "^\n",
      "\n",
      "  warnings.warn(errors.NumbaWarning(warn_msg,\n",
      "/Users/au566942/miniforge3/envs/classpp/lib/python3.10/site-packages/numba/core/object_mode_passes.py:161: NumbaDeprecationWarning: \n",
      "Fall-back from the nopython compilation path to the object mode compilation path has been detected, this is deprecated behaviour.\n",
      "\n",
      "For more information visit https://numba.readthedocs.io/en/stable/reference/deprecation.html#deprecation-of-object-mode-fall-back-behaviour-when-using-jit\n",
      "\n",
      "File \"../source/quadrature.py\", line 6:\n",
      "@jit(nopython=False)\n",
      "def GaussKronrod_quad(f, a, b, is_indefinite, f_args):\n",
      "^\n",
      "\n",
      "  warnings.warn(errors.NumbaDeprecationWarning(msg,\n",
      "/Users/au566942/Documents/phd/projects/relic_density/KFT-Neutrinos/notebooks/../source/quadrature.py:40: NumbaWarning: \n",
      "Compilation is falling back to object mode WITH looplifting enabled because Function \"GaussKronrod_adapt\" failed type inference due to: non-precise type pyobject\n",
      "During: typing of argument at /Users/au566942/Documents/phd/projects/relic_density/KFT-Neutrinos/notebooks/../source/quadrature.py (45)\n",
      "\n",
      "File \"../source/quadrature.py\", line 45:\n",
      "def GaussKronrod_adapt(f, a, b, rtol, abstol, f_args, is_indefinite=False):\n",
      "    <source elided>\n",
      "    # To integrate between 0 and infinity, set a=0, b=1 and is_indefinite=True on first call\n",
      "    I, err = GaussKronrod_quad(f, a, b, is_indefinite, f_args)\n",
      "    ^\n",
      "\n",
      "  @jit(nopython=False)\n",
      "/Users/au566942/miniforge3/envs/classpp/lib/python3.10/site-packages/numba/core/object_mode_passes.py:151: NumbaWarning: Function \"GaussKronrod_adapt\" was compiled in object mode without forceobj=True.\n",
      "\n",
      "File \"../source/quadrature.py\", line 41:\n",
      "@jit(nopython=False)\n",
      "def GaussKronrod_adapt(f, a, b, rtol, abstol, f_args, is_indefinite=False):\n",
      "^\n",
      "\n",
      "  warnings.warn(errors.NumbaWarning(warn_msg,\n",
      "/Users/au566942/miniforge3/envs/classpp/lib/python3.10/site-packages/numba/core/object_mode_passes.py:161: NumbaDeprecationWarning: \n",
      "Fall-back from the nopython compilation path to the object mode compilation path has been detected, this is deprecated behaviour.\n",
      "\n",
      "For more information visit https://numba.readthedocs.io/en/stable/reference/deprecation.html#deprecation-of-object-mode-fall-back-behaviour-when-using-jit\n",
      "\n",
      "File \"../source/quadrature.py\", line 41:\n",
      "@jit(nopython=False)\n",
      "def GaussKronrod_adapt(f, a, b, rtol, abstol, f_args, is_indefinite=False):\n",
      "^\n",
      "\n",
      "  warnings.warn(errors.NumbaDeprecationWarning(msg,\n",
      "/Users/au566942/Documents/phd/projects/relic_density/KFT-Neutrinos/notebooks/../source/quadrature.py:5: NumbaWarning: \n",
      "Compilation is falling back to object mode WITH looplifting enabled because Function \"GaussKronrod_quad\" failed type inference due to: non-precise type pyobject\n",
      "During: typing of argument at /Users/au566942/Documents/phd/projects/relic_density/KFT-Neutrinos/notebooks/../source/quadrature.py (8)\n",
      "\n",
      "File \"../source/quadrature.py\", line 8:\n",
      "def GaussKronrod_quad(f, a, b, is_indefinite, f_args):\n",
      "    <source elided>\n",
      "    #f = jit(f)\n",
      "    z_k = np.array([-0.991455371120813, -0.949107912342759, -0.864864423359769, -0.741531185599394, \n",
      "    ^\n",
      "\n",
      "  @jit(nopython=False)\n",
      "/Users/au566942/miniforge3/envs/classpp/lib/python3.10/site-packages/numba/core/object_mode_passes.py:151: NumbaWarning: Function \"GaussKronrod_quad\" was compiled in object mode without forceobj=True.\n",
      "\n",
      "File \"../source/quadrature.py\", line 6:\n",
      "@jit(nopython=False)\n",
      "def GaussKronrod_quad(f, a, b, is_indefinite, f_args):\n",
      "^\n",
      "\n",
      "  warnings.warn(errors.NumbaWarning(warn_msg,\n",
      "/Users/au566942/miniforge3/envs/classpp/lib/python3.10/site-packages/numba/core/object_mode_passes.py:161: NumbaDeprecationWarning: \n",
      "Fall-back from the nopython compilation path to the object mode compilation path has been detected, this is deprecated behaviour.\n",
      "\n",
      "For more information visit https://numba.readthedocs.io/en/stable/reference/deprecation.html#deprecation-of-object-mode-fall-back-behaviour-when-using-jit\n",
      "\n",
      "File \"../source/quadrature.py\", line 6:\n",
      "@jit(nopython=False)\n",
      "def GaussKronrod_quad(f, a, b, is_indefinite, f_args):\n",
      "^\n",
      "\n",
      "  warnings.warn(errors.NumbaDeprecationWarning(msg,\n",
      "/Users/au566942/Documents/phd/projects/relic_density/KFT-Neutrinos/notebooks/../source/quadrature.py:45: NumbaPerformanceWarning: np.dot() is faster on contiguous arrays, called on (array(float64, 1d, A), array(float64, 1d, C))\n",
      "  I, err = GaussKronrod_quad(f, a, b, is_indefinite, f_args)\n",
      "/Users/au566942/Documents/phd/projects/relic_density/KFT-Neutrinos/notebooks/../source/quadrature.py:40: NumbaWarning: \n",
      "Compilation is falling back to object mode WITH looplifting enabled because Function \"GaussKronrod_adapt\" failed type inference due to: non-precise type pyobject\n",
      "During: typing of argument at /Users/au566942/Documents/phd/projects/relic_density/KFT-Neutrinos/notebooks/../source/quadrature.py (45)\n",
      "\n",
      "File \"../source/quadrature.py\", line 45:\n",
      "def GaussKronrod_adapt(f, a, b, rtol, abstol, f_args, is_indefinite=False):\n",
      "    <source elided>\n",
      "    # To integrate between 0 and infinity, set a=0, b=1 and is_indefinite=True on first call\n",
      "    I, err = GaussKronrod_quad(f, a, b, is_indefinite, f_args)\n",
      "    ^\n",
      "\n",
      "  @jit(nopython=False)\n",
      "/Users/au566942/miniforge3/envs/classpp/lib/python3.10/site-packages/numba/core/object_mode_passes.py:151: NumbaWarning: Function \"GaussKronrod_adapt\" was compiled in object mode without forceobj=True.\n",
      "\n",
      "File \"../source/quadrature.py\", line 41:\n",
      "@jit(nopython=False)\n",
      "def GaussKronrod_adapt(f, a, b, rtol, abstol, f_args, is_indefinite=False):\n",
      "^\n",
      "\n",
      "  warnings.warn(errors.NumbaWarning(warn_msg,\n",
      "/Users/au566942/miniforge3/envs/classpp/lib/python3.10/site-packages/numba/core/object_mode_passes.py:161: NumbaDeprecationWarning: \n",
      "Fall-back from the nopython compilation path to the object mode compilation path has been detected, this is deprecated behaviour.\n",
      "\n",
      "For more information visit https://numba.readthedocs.io/en/stable/reference/deprecation.html#deprecation-of-object-mode-fall-back-behaviour-when-using-jit\n",
      "\n",
      "File \"../source/quadrature.py\", line 41:\n",
      "@jit(nopython=False)\n",
      "def GaussKronrod_adapt(f, a, b, rtol, abstol, f_args, is_indefinite=False):\n",
      "^\n",
      "\n",
      "  warnings.warn(errors.NumbaDeprecationWarning(msg,\n",
      "/Users/au566942/Documents/phd/projects/relic_density/KFT-Neutrinos/notebooks/../source/quadrature.py:40: NumbaWarning: \n",
      "Compilation is falling back to object mode WITH looplifting enabled because Function \"GaussKronrod_adapt\" failed type inference due to: non-precise type pyobject\n",
      "During: typing of argument at /Users/au566942/Documents/phd/projects/relic_density/KFT-Neutrinos/notebooks/../source/quadrature.py (45)\n",
      "\n",
      "File \"../source/quadrature.py\", line 45:\n",
      "def GaussKronrod_adapt(f, a, b, rtol, abstol, f_args, is_indefinite=False):\n",
      "    <source elided>\n",
      "    # To integrate between 0 and infinity, set a=0, b=1 and is_indefinite=True on first call\n",
      "    I, err = GaussKronrod_quad(f, a, b, is_indefinite, f_args)\n",
      "    ^\n",
      "\n",
      "  @jit(nopython=False)\n",
      "/Users/au566942/miniforge3/envs/classpp/lib/python3.10/site-packages/numba/core/object_mode_passes.py:151: NumbaWarning: Function \"GaussKronrod_adapt\" was compiled in object mode without forceobj=True.\n",
      "\n",
      "File \"../source/quadrature.py\", line 41:\n",
      "@jit(nopython=False)\n",
      "def GaussKronrod_adapt(f, a, b, rtol, abstol, f_args, is_indefinite=False):\n",
      "^\n",
      "\n",
      "  warnings.warn(errors.NumbaWarning(warn_msg,\n",
      "/Users/au566942/miniforge3/envs/classpp/lib/python3.10/site-packages/numba/core/object_mode_passes.py:161: NumbaDeprecationWarning: \n",
      "Fall-back from the nopython compilation path to the object mode compilation path has been detected, this is deprecated behaviour.\n",
      "\n",
      "For more information visit https://numba.readthedocs.io/en/stable/reference/deprecation.html#deprecation-of-object-mode-fall-back-behaviour-when-using-jit\n",
      "\n",
      "File \"../source/quadrature.py\", line 41:\n",
      "@jit(nopython=False)\n",
      "def GaussKronrod_adapt(f, a, b, rtol, abstol, f_args, is_indefinite=False):\n",
      "^\n",
      "\n",
      "  warnings.warn(errors.NumbaDeprecationWarning(msg,\n",
      "/Users/au566942/Documents/phd/projects/relic_density/KFT-Neutrinos/notebooks/../source/quadrature.py:5: NumbaWarning: \n",
      "Compilation is falling back to object mode WITH looplifting enabled because Function \"GaussKronrod_quad\" failed type inference due to: non-precise type pyobject\n",
      "During: typing of argument at /Users/au566942/Documents/phd/projects/relic_density/KFT-Neutrinos/notebooks/../source/quadrature.py (8)\n",
      "\n",
      "File \"../source/quadrature.py\", line 8:\n",
      "def GaussKronrod_quad(f, a, b, is_indefinite, f_args):\n",
      "    <source elided>\n",
      "    #f = jit(f)\n",
      "    z_k = np.array([-0.991455371120813, -0.949107912342759, -0.864864423359769, -0.741531185599394, \n",
      "    ^\n",
      "\n",
      "  @jit(nopython=False)\n",
      "/Users/au566942/miniforge3/envs/classpp/lib/python3.10/site-packages/numba/core/object_mode_passes.py:151: NumbaWarning: Function \"GaussKronrod_quad\" was compiled in object mode without forceobj=True.\n",
      "\n",
      "File \"../source/quadrature.py\", line 6:\n",
      "@jit(nopython=False)\n",
      "def GaussKronrod_quad(f, a, b, is_indefinite, f_args):\n",
      "^\n",
      "\n",
      "  warnings.warn(errors.NumbaWarning(warn_msg,\n",
      "/Users/au566942/miniforge3/envs/classpp/lib/python3.10/site-packages/numba/core/object_mode_passes.py:161: NumbaDeprecationWarning: \n",
      "Fall-back from the nopython compilation path to the object mode compilation path has been detected, this is deprecated behaviour.\n",
      "\n",
      "For more information visit https://numba.readthedocs.io/en/stable/reference/deprecation.html#deprecation-of-object-mode-fall-back-behaviour-when-using-jit\n",
      "\n",
      "File \"../source/quadrature.py\", line 6:\n",
      "@jit(nopython=False)\n",
      "def GaussKronrod_quad(f, a, b, is_indefinite, f_args):\n",
      "^\n",
      "\n",
      "  warnings.warn(errors.NumbaDeprecationWarning(msg,\n",
      "/Users/au566942/Documents/phd/projects/relic_density/KFT-Neutrinos/notebooks/../source/quadrature.py:40: NumbaWarning: \n",
      "Compilation is falling back to object mode WITH looplifting enabled because Function \"GaussKronrod_adapt\" failed type inference due to: non-precise type pyobject\n",
      "During: typing of argument at /Users/au566942/Documents/phd/projects/relic_density/KFT-Neutrinos/notebooks/../source/quadrature.py (45)\n",
      "\n",
      "File \"../source/quadrature.py\", line 45:\n",
      "def GaussKronrod_adapt(f, a, b, rtol, abstol, f_args, is_indefinite=False):\n",
      "    <source elided>\n",
      "    # To integrate between 0 and infinity, set a=0, b=1 and is_indefinite=True on first call\n",
      "    I, err = GaussKronrod_quad(f, a, b, is_indefinite, f_args)\n",
      "    ^\n",
      "\n",
      "  @jit(nopython=False)\n",
      "/Users/au566942/miniforge3/envs/classpp/lib/python3.10/site-packages/numba/core/object_mode_passes.py:151: NumbaWarning: Function \"GaussKronrod_adapt\" was compiled in object mode without forceobj=True.\n",
      "\n",
      "File \"../source/quadrature.py\", line 41:\n",
      "@jit(nopython=False)\n",
      "def GaussKronrod_adapt(f, a, b, rtol, abstol, f_args, is_indefinite=False):\n",
      "^\n",
      "\n",
      "  warnings.warn(errors.NumbaWarning(warn_msg,\n",
      "/Users/au566942/miniforge3/envs/classpp/lib/python3.10/site-packages/numba/core/object_mode_passes.py:161: NumbaDeprecationWarning: \n",
      "Fall-back from the nopython compilation path to the object mode compilation path has been detected, this is deprecated behaviour.\n",
      "\n",
      "For more information visit https://numba.readthedocs.io/en/stable/reference/deprecation.html#deprecation-of-object-mode-fall-back-behaviour-when-using-jit\n",
      "\n",
      "File \"../source/quadrature.py\", line 41:\n",
      "@jit(nopython=False)\n",
      "def GaussKronrod_adapt(f, a, b, rtol, abstol, f_args, is_indefinite=False):\n",
      "^\n",
      "\n",
      "  warnings.warn(errors.NumbaDeprecationWarning(msg,\n"
     ]
    },
    {
     "name": "stdout",
     "output_type": "stream",
     "text": [
      "After 3.8082 seconds: Found 1.212495186473708, compared to asymptotic value 1.2111522863694055.\n"
     ]
    }
   ],
   "source": [
    "begin = time()\n",
    "out = pert_first.integral(z_span, good_rtols, atols, x_here, mnu, Tnu, Gauss_Laguerre=Gauss_Laguerre)\n",
    "print(f\"After {time() - begin:.5} seconds: Found {1 + out/free_value}, compared to asymptotic value {asymptotic_value/free_value}.\")"
   ]
  },
  {
   "cell_type": "markdown",
   "id": "98ab7de7-2b4a-48f8-a042-97b9118c574f",
   "metadata": {},
   "source": [
    "After 1.8624 seconds: Found 1.212495186473708, compared to asymptotic value 1.2111522863694055.\n",
    "\n",
    "2.5332 seconds:"
   ]
  },
  {
   "cell_type": "code",
   "execution_count": 4,
   "id": "3fb09a5b-9aef-4f70-8a9c-0d4b48549de2",
   "metadata": {},
   "outputs": [
    {
     "ename": "NameError",
     "evalue": "name 'tgsrtsergs' is not defined",
     "output_type": "error",
     "traceback": [
      "\u001b[0;31m---------------------------------------------------------------------------\u001b[0m",
      "\u001b[0;31mNameError\u001b[0m                                 Traceback (most recent call last)",
      "Input \u001b[0;32mIn [4]\u001b[0m, in \u001b[0;36m<cell line: 1>\u001b[0;34m()\u001b[0m\n\u001b[0;32m----> 1\u001b[0m \u001b[43mtgsrtsergs\u001b[49m\n",
      "\u001b[0;31mNameError\u001b[0m: name 'tgsrtsergs' is not defined"
     ]
    }
   ],
   "source": [
    "tgsrtsergs"
   ]
  },
  {
   "cell_type": "code",
   "execution_count": null,
   "id": "0585a0e5-bf4c-41ee-995c-ea784607f100",
   "metadata": {},
   "outputs": [],
   "source": []
  },
  {
   "cell_type": "code",
   "execution_count": null,
   "id": "7b150463-ed4d-4738-8cfe-1273b3b7a89c",
   "metadata": {},
   "outputs": [],
   "source": []
  },
  {
   "cell_type": "markdown",
   "id": "7ea40a6c-5cff-4102-acb9-21ddf6f76ecf",
   "metadata": {},
   "source": [
    "After 3.4851 seconds: Found 1.2110028355063827, compared to asymptotic value 1.2111522863694055. (0.5)"
   ]
  },
  {
   "cell_type": "markdown",
   "id": "6dab7013-9fd1-4648-869e-e97bd99ba65c",
   "metadata": {},
   "source": [
    "**Gauss-Laguerre**: After 10.019 seconds: Found 1.211433956314203, compared to asymptotic value 1.2111522863694055. (41 points)"
   ]
  },
  {
   "cell_type": "markdown",
   "id": "939ba693-988c-44ac-bb81-030de3cb100a",
   "metadata": {},
   "source": [
    "**Gauss-Laguerre**: After 21.99 seconds: Found 1.211640678753521, compared to asymptotic value 1.2111522863694055. (90 points)"
   ]
  },
  {
   "cell_type": "markdown",
   "id": "4d186b41-4446-4498-9c76-2ec5fc2adffe",
   "metadata": {},
   "source": [
    "**Gauss-Kronrod**: After 60.295 seconds: Found 1.211175599427068, compared to asymptotic value 1.2111522863694055.\n",
    "\n",
    "After 3.8275 seconds: Found 1.2097454841015753, compared to asymptotic value 1.2111522863694055."
   ]
  },
  {
   "cell_type": "markdown",
   "id": "f6af0d80-378f-47f8-ad17-337cb6387140",
   "metadata": {},
   "source": [
    "**Conclusions**: \n",
    "\n",
    "* Gauss-Kronrod/Gauss-Laguerre is not a big difference! Choose whichever you want! **Actually**, Gauss-Laguerre is better. Good config is ~40 GL points and the tolerances [1e-6, *, 1e-4, 1e-5]. Permille accuracy at ~10s.\n",
    "\n",
    "* To acheive permille precision ~10 seconds evaluation time is needed."
   ]
  },
  {
   "cell_type": "markdown",
   "id": "1c820dde-381f-4411-a1b9-5240bea5da51",
   "metadata": {},
   "source": [
    "### Adjusting the $z$ rel. tolerance"
   ]
  },
  {
   "cell_type": "code",
   "execution_count": null,
   "id": "18aa40a5-0c97-4ea7-86d8-0a1e666196c4",
   "metadata": {},
   "outputs": [],
   "source": [
    "import numba as nb"
   ]
  },
  {
   "cell_type": "code",
   "execution_count": null,
   "id": "e761dfef-595f-4ea1-bea8-b6c25c70af5f",
   "metadata": {},
   "outputs": [],
   "source": [
    "KftArgs = namedtuple('KftArgs', \n",
    "                     field_names=['rtols', 'atols', 'f_evals', 'x_here', 'mnu', 'Tnu', 'G0_Gz', \n",
    "                                  'weight', 'Rs', 'p', 'theta', 'sintheta', 'costheta', 'Gauss_Laguerre'])"
   ]
  },
  {
   "cell_type": "code",
   "execution_count": null,
   "id": "c280ef78-a438-4405-94dd-2ee93d369424",
   "metadata": {},
   "outputs": [],
   "source": [
    "nb.types.List(nb.float64[:, :])\n",
    "\n",
    "(nb.types.NamedTuple([nb.float64[:], nb.float64[:], nb.int64, nb.float64[:], nb.float64, nb.float64, nb.float64, nb.float64, nb.float64, nb.float64, nb.float64, nb.float64, nb.float64, nb.int64], KftArgs))\n",
    "\n",
    "@jit((nb.float64, nb.int64)\n",
    "     (nb.float64[:], nb.float64[:], nb.float64[:], nb.float64[:], nb.float64, nb.float64, nb.int64), \n",
    "     nopython=True)\n",
    "def integral(...):\n",
    "    pass"
   ]
  },
  {
   "cell_type": "code",
   "execution_count": null,
   "id": "3206632e-4a40-4bbe-bfe3-834914c17b93",
   "metadata": {},
   "outputs": [],
   "source": [
    "out_z = []\n",
    "\n",
    "begin = time()\n",
    "for rtol_z in rtol_scan:\n",
    "    rtols = base_rtols.copy()\n",
    "    rtols[0] = rtol_z\n",
    "    out_z.append(pert_first.integral(z_span, rtols, atols, x_here, mnu, Tnu))\n",
    "print(f\"Finished after {time() - begin:.5} seconds.\")"
   ]
  },
  {
   "cell_type": "code",
   "execution_count": null,
   "id": "2c5df2fd-3204-4eba-ad5d-1d636cc882b9",
   "metadata": {},
   "outputs": [],
   "source": [
    "fig, ax = plt.subplots(1, 1, figsize=[10, 5])\n",
    "ax.plot(rtol_scan, [out_z[idx][0] for idx in range(len(rtol_scan))], 'k.-', ms=10)\n",
    "ax.plot(rtol_scan, np.ones(len(rtol_scan))*asymptotic_value, 'k--')\n",
    "ax.set(xscale='log', xlabel='rtol', ylabel='integral', title='Varying $z$ tolerance')\n",
    "ax.invert_xaxis()"
   ]
  },
  {
   "cell_type": "code",
   "execution_count": null,
   "id": "a250ae9f-f394-4ae9-88d3-8b74818f0060",
   "metadata": {},
   "outputs": [],
   "source": [
    "fig, ax = plt.subplots(1, 1, figsize=[10, 5])\n",
    "ax.plot(rtol_scan, [out_z[idx][1] for idx in range(len(rtol_scan))], 'k.-', ms=10)\n",
    "ax.set(xscale='log', yscale='log', xlabel='rtol', ylabel='# function evaluations')\n",
    "ax.invert_xaxis()"
   ]
  },
  {
   "cell_type": "markdown",
   "id": "4c0a6241-8d11-4839-bfe3-ae1eb8c68a39",
   "metadata": {},
   "source": [
    "### Adjusting $p$ tolerances"
   ]
  },
  {
   "cell_type": "code",
   "execution_count": null,
   "id": "fd2d1a1a-57c2-48ba-91cd-0d2b5034dbab",
   "metadata": {},
   "outputs": [],
   "source": [
    "out_p = []\n",
    "\n",
    "begin = time()\n",
    "for rtol_p in rtol_scan:\n",
    "    rtols = base_rtols.copy()\n",
    "    rtols[1] = rtol_p\n",
    "    out_p.append(pert_first.integral(z_span, rtols, atols, x_here, mnu, Tnu))\n",
    "print(f\"Finished after {time() - begin:.5} seconds.\")"
   ]
  },
  {
   "cell_type": "code",
   "execution_count": null,
   "id": "638f7149-1055-4e16-8ffd-8402acc40e8a",
   "metadata": {},
   "outputs": [],
   "source": [
    "fig, ax = plt.subplots(1, 1, figsize=[10, 5])\n",
    "ax.plot(rtol_scan, [out_p[idx][0] for idx in range(len(rtol_scan))], 'k.-', ms=10)\n",
    "ax.plot(rtol_scan, np.ones(len(rtol_scan))*asymptotic_value, 'k--')\n",
    "ax.set(xscale='log', xlabel='rtol', ylabel='integral', title='Varying $p$ tolerance')\n",
    "ax.invert_xaxis()"
   ]
  },
  {
   "cell_type": "markdown",
   "id": "1a18187a-afa4-418c-8768-25fa6b9238d4",
   "metadata": {},
   "source": [
    "### Adjusting $\\theta$ tolerance"
   ]
  },
  {
   "cell_type": "code",
   "execution_count": null,
   "id": "022d11e7-f821-45c7-b18c-506c8990b104",
   "metadata": {},
   "outputs": [],
   "source": [
    "out_th = []\n",
    "\n",
    "begin = time()\n",
    "for rtol_th in rtol_scan:\n",
    "    rtols = base_rtols.copy()\n",
    "    rtols[2] = rtol_th\n",
    "    out_th.append(pert_first.integral(z_span, rtols, atols, x_here, mnu, Tnu))\n",
    "print(f\"Finished after {time() - begin:.5} seconds.\")"
   ]
  },
  {
   "cell_type": "code",
   "execution_count": null,
   "id": "4b00eb71-e47e-45f4-ac19-a8153897ebba",
   "metadata": {},
   "outputs": [],
   "source": [
    "fig, ax = plt.subplots(1, 1, figsize=[10, 5])\n",
    "ax.plot(rtol_scan, [out_th[idx][0] for idx in range(len(rtol_scan))], 'k.-', ms=10)\n",
    "ax.plot(rtol_scan, np.ones(len(rtol_scan))*asymptotic_value, 'k--')\n",
    "ax.set(xscale='log', xlabel='rtol', ylabel='integral', title='Varying $\\theta$ tolerance')\n",
    "ax.invert_xaxis()"
   ]
  },
  {
   "cell_type": "markdown",
   "id": "bba238d0-6dee-422c-a9e2-77689cdc0e50",
   "metadata": {},
   "source": [
    "### Adjusting $\\phi$ tolerance"
   ]
  },
  {
   "cell_type": "code",
   "execution_count": null,
   "id": "f6e4a822-0efb-45e6-b7ea-42b9ce522586",
   "metadata": {},
   "outputs": [],
   "source": [
    "out_phi= []\n",
    "\n",
    "begin = time()\n",
    "for rtol_phi in rtol_scan:\n",
    "    rtols = base_rtols.copy()\n",
    "    rtols[3] = rtol_phi\n",
    "    out_phi.append(pert_first.integral(z_span, rtols, atols, x_here, mnu, Tnu))\n",
    "print(f\"Finished after {time() - begin:.5} seconds.\")"
   ]
  },
  {
   "cell_type": "code",
   "execution_count": null,
   "id": "59a0535a-2f96-4b93-807d-36cfa4d71a45",
   "metadata": {},
   "outputs": [],
   "source": [
    "fig, ax = plt.subplots(1, 1, figsize=[10, 5])\n",
    "ax.plot(rtol_scan, [out_phi[idx][0] for idx in range(len(rtol_scan))], 'k.-', ms=10)\n",
    "ax.plot(rtol_scan, np.ones(len(rtol_scan))*asymptotic_value, 'k--')\n",
    "ax.set(xscale='log', xlabel='rtol', ylabel='integral', title='Varying $\\phi$ tolerance')\n",
    "ax.invert_xaxis()"
   ]
  },
  {
   "cell_type": "markdown",
   "id": "384ca7af-e063-49e6-850d-19a4a8a3a9d3",
   "metadata": {},
   "source": [
    "### Master plot"
   ]
  },
  {
   "cell_type": "code",
   "execution_count": null,
   "id": "a968ab0a-9bfe-4d04-8f9e-3ad6eaeecb53",
   "metadata": {},
   "outputs": [],
   "source": [
    "fig, ax = plt.subplots(4, 1, figsize=[10, 8])\n",
    "xlims = [1e-10, 1e+1]\n",
    "ax[0].plot(rtol_scan, [out_z[idx][0] for idx in range(len(rtol_scan))], 'k.-', ms=10, label=r'varying $z$ tolerance')\n",
    "#ax[0].plot(rtol_scan, np.ones(len(rtol_scan))*asymptotic_value, 'k--')\n",
    "ax[0].set(xscale='log', xlabel='rtol', ylabel='integral', xlim=xlims, xticks=[])\n",
    "ax[0].legend(frameon=False)\n",
    "ax[0].invert_xaxis()\n",
    "\n",
    "ax[1].plot(rtol_scan, [out_p[idx][0] for idx in range(len(rtol_scan))], 'k.-', ms=10, label=r'varying $p$ tolerance')\n",
    "#ax[1].plot(rtol_scan, np.ones(len(rtol_scan))*asymptotic_value, 'k--')\n",
    "ax[1].set(xscale='log', xlabel='rtol', ylabel='integral', xlim=xlims, xticks=[])\n",
    "ax[1].invert_xaxis()\n",
    "ax[1].legend(frameon=False)\n",
    "\n",
    "ax[2].plot(rtol_scan, [out_th[idx][0] for idx in range(len(rtol_scan))], 'k.-', ms=10, label=r'varying $\\theta$ tolerance')\n",
    "#ax[2].plot(rtol_scan, np.ones(len(rtol_scan))*asymptotic_value, 'k--')\n",
    "ax[2].set(xscale='log', xlabel='rtol', ylabel='integral', xlim=xlims, xticks=[])\n",
    "ax[2].invert_xaxis()\n",
    "ax[2].legend(frameon=False)\n",
    "\n",
    "ax[3].plot(rtol_scan, [out_phi[idx][0] for idx in range(len(rtol_scan))], 'k.-', ms=10, label=r'varying $\\phi$ tolerance')\n",
    "#ax[3].plot(rtol_scan, np.ones(len(rtol_scan))*asymptotic_value, 'k--')\n",
    "ax[3].set(xscale='log', xlabel='rtol', ylabel='integral', xlim=xlims)\n",
    "ax[3].invert_xaxis()\n",
    "ax[3].legend(frameon=False)\n",
    "fig.subplots_adjust(hspace=0.0)"
   ]
  },
  {
   "cell_type": "code",
   "execution_count": null,
   "id": "d035a83a-b168-4cee-b69f-059c0c73f1c3",
   "metadata": {},
   "outputs": [],
   "source": []
  }
 ],
 "metadata": {
  "kernelspec": {
   "display_name": "Python 3 (ipykernel)",
   "language": "python",
   "name": "python3"
  },
  "language_info": {
   "codemirror_mode": {
    "name": "ipython",
    "version": 3
   },
   "file_extension": ".py",
   "mimetype": "text/x-python",
   "name": "python",
   "nbconvert_exporter": "python",
   "pygments_lexer": "ipython3",
   "version": "3.10.5"
  }
 },
 "nbformat": 4,
 "nbformat_minor": 5
}
