{
 "cells": [
  {
   "cell_type": "markdown",
   "id": "0005a134-77dc-4df2-a034-58a0e11e2a02",
   "metadata": {},
   "source": [
    "### Notebook for computing the relic neutrino density using first and second order perturbation theory in KFT"
   ]
  },
  {
   "cell_type": "code",
   "execution_count": 1,
   "id": "d138cb59-4721-4298-b87d-c32b8e1d149a",
   "metadata": {
    "tags": []
   },
   "outputs": [],
   "source": [
    "from time import time\n",
    "import numpy as np\n",
    "import matplotlib.pyplot as plt\n",
    "import matplotlib\n",
    "import sys\n",
    "\n",
    "font = {'size'   : 22}\n",
    "matplotlib.rc(\"font\", **font)\n",
    "matplotlib.rc([\"text.usetex\", True])\n",
    "\n",
    "\n",
    "sys.path.insert(0,'../source/')\n",
    "import model \n",
    "import pert_first\n",
    "import perturbation_old\n",
    "import utils"
   ]
  },
  {
   "cell_type": "code",
   "execution_count": null,
   "id": "8a07e68a-0706-4815-806d-0e3075751068",
   "metadata": {},
   "outputs": [],
   "source": []
  },
  {
   "cell_type": "markdown",
   "id": "ae0a7d54-b1a9-4cfe-b44f-ef3db9f2e84c",
   "metadata": {},
   "source": [
    "-------- **Specify input below** --------"
   ]
  },
  {
   "cell_type": "code",
   "execution_count": 2,
   "id": "df702782-ac57-4b75-b985-5ce91cb16bf9",
   "metadata": {},
   "outputs": [],
   "source": [
    "x_here = np.array([0.0, 0.0, 8.0])\n",
    "mnu = 0.1\n",
    "Tnu = model.Tnu\n",
    "z_ini = 3.0\n",
    "z_span = [0, z_ini]"
   ]
  },
  {
   "cell_type": "markdown",
   "id": "1db57faf-8dd1-47c1-a439-333e81081067",
   "metadata": {},
   "source": [
    "-------- **Automatic from here** --------"
   ]
  },
  {
   "cell_type": "code",
   "execution_count": 3,
   "id": "00a7f858-4cc9-46a2-aea3-6cff6a988178",
   "metadata": {},
   "outputs": [
    {
     "name": "stdout",
     "output_type": "stream",
     "text": [
      "The analytical free integral is 1.06738178968e-10.\n"
     ]
    }
   ],
   "source": [
    "int_free_analytical = 4*np.pi*1.803*model.Tnu**3\n",
    "print(f\"The analytical free integral is {int_free_analytical:.12}.\")"
   ]
  },
  {
   "cell_type": "code",
   "execution_count": 4,
   "id": "02a068e6-694c-4d85-bc27-fdf5fef695ed",
   "metadata": {},
   "outputs": [
    {
     "name": "stdout",
     "output_type": "stream",
     "text": [
      "p_ini=array([8.02949001e-08, 2.15593356e-09, 5.98418888e-06])\n",
      "phi=0.02684374331450524\n",
      "f_args.G0_Gz=572338.6069507711\n",
      "pos_back = [-4.59558713e-02 -1.23392401e-03  4.57501767e+00]\n",
      "r = 4.575248645251199\n",
      "Rs = 99.06622217454023\n",
      "weight = 1.4790859651052964e-09\n",
      "LapNFW_quick(f_args.x_here - f_args.G0_Gz*p_ini, f_args.Rs)=2.0347832956470013e-05\n"
     ]
    },
    {
     "ename": "NameError",
     "evalue": "name 'asdf' is not defined",
     "output_type": "error",
     "traceback": [
      "\u001b[0;31m---------------------------------------------------------------------------\u001b[0m",
      "\u001b[0;31mNameError\u001b[0m                                 Traceback (most recent call last)",
      "Input \u001b[0;32mIn [4]\u001b[0m, in \u001b[0;36m<cell line: 12>\u001b[0;34m()\u001b[0m\n\u001b[1;32m      9\u001b[0m GaussLaguerre \u001b[38;5;241m=\u001b[39m \u001b[38;5;241m40\u001b[39m\n\u001b[1;32m     11\u001b[0m timer \u001b[38;5;241m=\u001b[39m time()\n\u001b[0;32m---> 12\u001b[0m int_gk, f_evals, zbins \u001b[38;5;241m=\u001b[39m \u001b[43mpert_first\u001b[49m\u001b[38;5;241;43m.\u001b[39;49m\u001b[43mintegral\u001b[49m\u001b[43m(\u001b[49m\u001b[43mz_span\u001b[49m\u001b[43m,\u001b[49m\u001b[43m \u001b[49m\u001b[43mrtols\u001b[49m\u001b[43m,\u001b[49m\u001b[43m \u001b[49m\u001b[43matols\u001b[49m\u001b[43m,\u001b[49m\u001b[43m \u001b[49m\u001b[43mx_here\u001b[49m\u001b[43m,\u001b[49m\u001b[43m \u001b[49m\u001b[43mmnu\u001b[49m\u001b[43m,\u001b[49m\u001b[43m \u001b[49m\u001b[43mTnu\u001b[49m\u001b[43m,\u001b[49m\u001b[43m \u001b[49m\u001b[43mGauss_Laguerre\u001b[49m\u001b[38;5;241;43m=\u001b[39;49m\u001b[43mGaussLaguerre\u001b[49m\u001b[43m)\u001b[49m\n\u001b[1;32m     13\u001b[0m \u001b[38;5;28mprint\u001b[39m(int_gk)\n\u001b[1;32m     14\u001b[0m \u001b[38;5;28mprint\u001b[39m(\u001b[38;5;124mf\u001b[39m\u001b[38;5;124m\"\u001b[39m\u001b[38;5;124mGauss-Kronrod: At m=\u001b[39m\u001b[38;5;132;01m{\u001b[39;00mmnu\u001b[38;5;132;01m:\u001b[39;00m\u001b[38;5;124m.5\u001b[39m\u001b[38;5;132;01m}\u001b[39;00m\u001b[38;5;124m eV: \u001b[39m\u001b[38;5;132;01m{\u001b[39;00mint_gk\u001b[38;5;132;01m:\u001b[39;00m\u001b[38;5;124m.10\u001b[39m\u001b[38;5;132;01m}\u001b[39;00m\u001b[38;5;124m after \u001b[39m\u001b[38;5;132;01m{\u001b[39;00mtime() \u001b[38;5;241m-\u001b[39m timer\u001b[38;5;132;01m:\u001b[39;00m\u001b[38;5;124m.4\u001b[39m\u001b[38;5;132;01m}\u001b[39;00m\u001b[38;5;124m seconds and \u001b[39m\u001b[38;5;132;01m{\u001b[39;00mf_evals\u001b[38;5;132;01m}\u001b[39;00m\u001b[38;5;124m function evaluations\u001b[39m\u001b[38;5;124m\"\u001b[39m)\n",
      "File \u001b[0;32m~/Documents/phd/projects/relic_density/KFT-Neutrinos/notebooks/../source/pert_first.py:27\u001b[0m, in \u001b[0;36mintegral\u001b[0;34m(z_span, rtols, atols, x_here, mnu, Tnu, Gauss_Laguerre)\u001b[0m\n\u001b[1;32m     24\u001b[0m \u001b[38;5;28;01massert\u001b[39;00m(args)\n\u001b[1;32m     25\u001b[0m \u001b[38;5;28;01mif\u001b[39;00m Gauss_Laguerre:\n\u001b[1;32m     26\u001b[0m     \u001b[38;5;66;03m#I, err = GaussKronrod_adapt(integrand_z_GaussLaguerre, a, b, args.rtols[0], args.atols[0], is_indefinite=False, f_args=args)\u001b[39;00m\n\u001b[0;32m---> 27\u001b[0m     I, err \u001b[38;5;241m=\u001b[39m \u001b[43mGaussKronrod_adapt\u001b[49m\u001b[43m(\u001b[49m\u001b[43mintegrand_z_GaussLaguerre\u001b[49m\u001b[43m,\u001b[49m\u001b[43m \u001b[49m\u001b[43ma\u001b[49m\u001b[43m,\u001b[49m\u001b[43m \u001b[49m\u001b[43mb\u001b[49m\u001b[43m,\u001b[49m\u001b[43m \u001b[49m\u001b[43margs\u001b[49m\u001b[38;5;241;43m.\u001b[39;49m\u001b[43mrtols\u001b[49m\u001b[43m[\u001b[49m\u001b[38;5;241;43m0\u001b[39;49m\u001b[43m]\u001b[49m\u001b[43m,\u001b[49m\u001b[43m \u001b[49m\u001b[43margs\u001b[49m\u001b[38;5;241;43m.\u001b[39;49m\u001b[43matols\u001b[49m\u001b[43m[\u001b[49m\u001b[38;5;241;43m0\u001b[39;49m\u001b[43m]\u001b[49m\u001b[43m,\u001b[49m\u001b[43m \u001b[49m\u001b[43mis_indefinite\u001b[49m\u001b[38;5;241;43m=\u001b[39;49m\u001b[38;5;28;43;01mFalse\u001b[39;49;00m\u001b[43m,\u001b[49m\u001b[43m \u001b[49m\u001b[43mf_args\u001b[49m\u001b[38;5;241;43m=\u001b[39;49m\u001b[43margs\u001b[49m\u001b[43m)\u001b[49m\n\u001b[1;32m     28\u001b[0m \u001b[38;5;28;01melse\u001b[39;00m:\n\u001b[1;32m     29\u001b[0m     I, err \u001b[38;5;241m=\u001b[39m GaussKronrod_adapt(integrand_z, a, b, args\u001b[38;5;241m.\u001b[39mrtols[\u001b[38;5;241m0\u001b[39m], args\u001b[38;5;241m.\u001b[39matols[\u001b[38;5;241m0\u001b[39m], is_indefinite\u001b[38;5;241m=\u001b[39m\u001b[38;5;28;01mFalse\u001b[39;00m, f_args\u001b[38;5;241m=\u001b[39margs)\n",
      "File \u001b[0;32m~/Documents/phd/projects/relic_density/KFT-Neutrinos/notebooks/../source/quadrature.py:40\u001b[0m, in \u001b[0;36mGaussKronrod_adapt\u001b[0;34m(f, a, b, rtol, abstol, f_args, is_indefinite)\u001b[0m\n\u001b[1;32m     37\u001b[0m \u001b[38;5;28;01mdef\u001b[39;00m \u001b[38;5;21mGaussKronrod_adapt\u001b[39m(f, a, b, rtol, abstol, f_args, is_indefinite\u001b[38;5;241m=\u001b[39m\u001b[38;5;28;01mFalse\u001b[39;00m):\n\u001b[1;32m     38\u001b[0m     \u001b[38;5;66;03m# Do adaptive Gauss-Kronrod quadrature.\u001b[39;00m\n\u001b[1;32m     39\u001b[0m     \u001b[38;5;66;03m# To integrate between 0 and infinity, set a=0, b=1 and is_indefinite=True on first call\u001b[39;00m\n\u001b[0;32m---> 40\u001b[0m     I, err \u001b[38;5;241m=\u001b[39m \u001b[43mGaussKronrod_quad\u001b[49m\u001b[43m(\u001b[49m\u001b[43mf\u001b[49m\u001b[43m,\u001b[49m\u001b[43m \u001b[49m\u001b[43ma\u001b[49m\u001b[43m,\u001b[49m\u001b[43m \u001b[49m\u001b[43mb\u001b[49m\u001b[43m,\u001b[49m\u001b[43m \u001b[49m\u001b[43mis_indefinite\u001b[49m\u001b[43m,\u001b[49m\u001b[43m \u001b[49m\u001b[43mf_args\u001b[49m\u001b[43m)\u001b[49m\n\u001b[1;32m     41\u001b[0m     \u001b[38;5;66;03m# Stop recursion if tolerance has been made or recursion is too deep:\u001b[39;00m\n\u001b[1;32m     43\u001b[0m     \u001b[38;5;28;01mif\u001b[39;00m (\u001b[38;5;28mabs\u001b[39m(I) \u001b[38;5;241m>\u001b[39m \u001b[38;5;241m0\u001b[39m \u001b[38;5;129;01mand\u001b[39;00m err\u001b[38;5;241m/\u001b[39mI \u001b[38;5;241m<\u001b[39m rtol) \u001b[38;5;129;01mor\u001b[39;00m err \u001b[38;5;241m<\u001b[39m abstol:\n",
      "File \u001b[0;32m~/Documents/phd/projects/relic_density/KFT-Neutrinos/notebooks/../source/quadrature.py:30\u001b[0m, in \u001b[0;36mGaussKronrod_quad\u001b[0;34m(f, a, b, is_indefinite, f_args)\u001b[0m\n\u001b[1;32m     28\u001b[0m     x \u001b[38;5;241m=\u001b[39m t\n\u001b[1;32m     29\u001b[0m \u001b[38;5;66;03m#assert(f_args)\u001b[39;00m\n\u001b[0;32m---> 30\u001b[0m y \u001b[38;5;241m=\u001b[39m np\u001b[38;5;241m.\u001b[39marray([f(xx, f_args\u001b[38;5;241m=\u001b[39mf_args) \u001b[38;5;28;01mfor\u001b[39;00m xx \u001b[38;5;129;01min\u001b[39;00m x])\n\u001b[1;32m     32\u001b[0m Ik \u001b[38;5;241m=\u001b[39m np\u001b[38;5;241m.\u001b[39mdot(y, w_k)\n\u001b[1;32m     33\u001b[0m Ig \u001b[38;5;241m=\u001b[39m np\u001b[38;5;241m.\u001b[39mdot(y[\u001b[38;5;241m1\u001b[39m::\u001b[38;5;241m2\u001b[39m], w_g)\n",
      "File \u001b[0;32m~/Documents/phd/projects/relic_density/KFT-Neutrinos/notebooks/../source/quadrature.py:30\u001b[0m, in \u001b[0;36m<listcomp>\u001b[0;34m(.0)\u001b[0m\n\u001b[1;32m     28\u001b[0m     x \u001b[38;5;241m=\u001b[39m t\n\u001b[1;32m     29\u001b[0m \u001b[38;5;66;03m#assert(f_args)\u001b[39;00m\n\u001b[0;32m---> 30\u001b[0m y \u001b[38;5;241m=\u001b[39m np\u001b[38;5;241m.\u001b[39marray([\u001b[43mf\u001b[49m\u001b[43m(\u001b[49m\u001b[43mxx\u001b[49m\u001b[43m,\u001b[49m\u001b[43m \u001b[49m\u001b[43mf_args\u001b[49m\u001b[38;5;241;43m=\u001b[39;49m\u001b[43mf_args\u001b[49m\u001b[43m)\u001b[49m \u001b[38;5;28;01mfor\u001b[39;00m xx \u001b[38;5;129;01min\u001b[39;00m x])\n\u001b[1;32m     32\u001b[0m Ik \u001b[38;5;241m=\u001b[39m np\u001b[38;5;241m.\u001b[39mdot(y, w_k)\n\u001b[1;32m     33\u001b[0m Ig \u001b[38;5;241m=\u001b[39m np\u001b[38;5;241m.\u001b[39mdot(y[\u001b[38;5;241m1\u001b[39m::\u001b[38;5;241m2\u001b[39m], w_g)\n",
      "File \u001b[0;32m~/Documents/phd/projects/relic_density/KFT-Neutrinos/notebooks/../source/pert_first.py:68\u001b[0m, in \u001b[0;36mintegrand_z_GaussLaguerre\u001b[0;34m(z, f_args)\u001b[0m\n\u001b[1;32m     66\u001b[0m \u001b[38;5;28;01massert\u001b[39;00m(\u001b[38;5;28mtype\u001b[39m(f_args\u001b[38;5;241m.\u001b[39mGauss_Laguerre) \u001b[38;5;241m==\u001b[39m \u001b[38;5;28mint\u001b[39m)\n\u001b[1;32m     67\u001b[0m \u001b[38;5;28;01massert\u001b[39;00m(f_args\u001b[38;5;241m.\u001b[39mGauss_Laguerre \u001b[38;5;241m>\u001b[39m \u001b[38;5;241m0\u001b[39m)\n\u001b[0;32m---> 68\u001b[0m I \u001b[38;5;241m=\u001b[39m \u001b[43mGaussLaguerre\u001b[49m\u001b[43m(\u001b[49m\u001b[43mintegrand_y\u001b[49m\u001b[43m,\u001b[49m\u001b[43m \u001b[49m\u001b[43mN\u001b[49m\u001b[38;5;241;43m=\u001b[39;49m\u001b[43mf_args\u001b[49m\u001b[38;5;241;43m.\u001b[39;49m\u001b[43mGauss_Laguerre\u001b[49m\u001b[43m,\u001b[49m\u001b[43m \u001b[49m\u001b[43mf_args\u001b[49m\u001b[38;5;241;43m=\u001b[39;49m\u001b[43margs\u001b[49m\u001b[43m)\u001b[49m\n\u001b[1;32m     69\u001b[0m \u001b[38;5;66;03m#print(f\"{z=}, {I=}\", flush=True)\u001b[39;00m\n\u001b[1;32m     70\u001b[0m \u001b[38;5;66;03m#asdf\u001b[39;00m\n\u001b[1;32m     71\u001b[0m \u001b[38;5;28;01mreturn\u001b[39;00m I\n",
      "File \u001b[0;32m~/Documents/phd/projects/relic_density/KFT-Neutrinos/notebooks/../source/quadrature.py:55\u001b[0m, in \u001b[0;36mGaussLaguerre\u001b[0;34m(f, N, f_args)\u001b[0m\n\u001b[1;32m     53\u001b[0m val \u001b[38;5;241m=\u001b[39m \u001b[38;5;241m0.0\u001b[39m\n\u001b[1;32m     54\u001b[0m \u001b[38;5;28;01mfor\u001b[39;00m x, weight \u001b[38;5;129;01min\u001b[39;00m \u001b[38;5;28mzip\u001b[39m(x_list, x_weights):\n\u001b[0;32m---> 55\u001b[0m     val \u001b[38;5;241m+\u001b[39m\u001b[38;5;241m=\u001b[39m \u001b[43mf\u001b[49m\u001b[43m(\u001b[49m\u001b[43mx\u001b[49m\u001b[43m,\u001b[49m\u001b[43m \u001b[49m\u001b[43mf_args\u001b[49m\u001b[43m)\u001b[49m\u001b[38;5;241m*\u001b[39mweight\n\u001b[1;32m     56\u001b[0m \u001b[38;5;28;01mreturn\u001b[39;00m val\n",
      "File \u001b[0;32m~/Documents/phd/projects/relic_density/KFT-Neutrinos/notebooks/../source/pert_first.py:85\u001b[0m, in \u001b[0;36mintegrand_y\u001b[0;34m(y, f_args)\u001b[0m\n\u001b[1;32m     81\u001b[0m \u001b[38;5;28;01mdef\u001b[39;00m \u001b[38;5;21mintegrand_y\u001b[39m(y, f_args):\n\u001b[1;32m     82\u001b[0m     args \u001b[38;5;241m=\u001b[39m KftArgs(rtols\u001b[38;5;241m=\u001b[39mf_args\u001b[38;5;241m.\u001b[39mrtols, atols\u001b[38;5;241m=\u001b[39mf_args\u001b[38;5;241m.\u001b[39matols, x_here\u001b[38;5;241m=\u001b[39mf_args\u001b[38;5;241m.\u001b[39mx_here, mnu\u001b[38;5;241m=\u001b[39mf_args\u001b[38;5;241m.\u001b[39mmnu, Tnu\u001b[38;5;241m=\u001b[39mf_args\u001b[38;5;241m.\u001b[39mTnu, f_evals\u001b[38;5;241m=\u001b[39mf_args\u001b[38;5;241m.\u001b[39mf_evals,\n\u001b[1;32m     83\u001b[0m                    G0_Gz\u001b[38;5;241m=\u001b[39mf_args\u001b[38;5;241m.\u001b[39mG0_Gz, weight\u001b[38;5;241m=\u001b[39mf_args\u001b[38;5;241m.\u001b[39mTnu\u001b[38;5;241m*\u001b[39m\u001b[38;5;241m*\u001b[39m\u001b[38;5;241m3\u001b[39m\u001b[38;5;241m*\u001b[39mf_args\u001b[38;5;241m.\u001b[39mweight\u001b[38;5;241m*\u001b[39mnp\u001b[38;5;241m.\u001b[39mexp(y)\u001b[38;5;241m*\u001b[39my\u001b[38;5;241m*\u001b[39m\u001b[38;5;241m*\u001b[39m\u001b[38;5;241m2\u001b[39m\u001b[38;5;241m/\u001b[39m(\u001b[38;5;241m1\u001b[39m \u001b[38;5;241m+\u001b[39m np\u001b[38;5;241m.\u001b[39mexp(y)), Rs\u001b[38;5;241m=\u001b[39mf_args\u001b[38;5;241m.\u001b[39mRs, p\u001b[38;5;241m=\u001b[39mf_args\u001b[38;5;241m.\u001b[39mTnu\u001b[38;5;241m*\u001b[39my, zlist\u001b[38;5;241m=\u001b[39mf_args\u001b[38;5;241m.\u001b[39mzlist,\n\u001b[1;32m     84\u001b[0m                    theta\u001b[38;5;241m=\u001b[39m\u001b[38;5;241m1\u001b[39m, sintheta\u001b[38;5;241m=\u001b[39m\u001b[38;5;241m1\u001b[39m, costheta\u001b[38;5;241m=\u001b[39m\u001b[38;5;241m1\u001b[39m, Gauss_Laguerre\u001b[38;5;241m=\u001b[39mf_args\u001b[38;5;241m.\u001b[39mGauss_Laguerre) \u001b[38;5;66;03m# dummies\u001b[39;00m\n\u001b[0;32m---> 85\u001b[0m     I, err \u001b[38;5;241m=\u001b[39m \u001b[43mGaussKronrod_adapt\u001b[49m\u001b[43m(\u001b[49m\u001b[43mintegrand_theta\u001b[49m\u001b[43m,\u001b[49m\u001b[43m \u001b[49m\u001b[38;5;241;43m0\u001b[39;49m\u001b[43m,\u001b[49m\u001b[43m \u001b[49m\u001b[43mnp\u001b[49m\u001b[38;5;241;43m.\u001b[39;49m\u001b[43mpi\u001b[49m\u001b[43m,\u001b[49m\u001b[43m \u001b[49m\u001b[43mf_args\u001b[49m\u001b[38;5;241;43m.\u001b[39;49m\u001b[43mrtols\u001b[49m\u001b[43m[\u001b[49m\u001b[38;5;241;43m2\u001b[39;49m\u001b[43m]\u001b[49m\u001b[43m,\u001b[49m\u001b[43m \u001b[49m\u001b[43mf_args\u001b[49m\u001b[38;5;241;43m.\u001b[39;49m\u001b[43matols\u001b[49m\u001b[43m[\u001b[49m\u001b[38;5;241;43m2\u001b[39;49m\u001b[43m]\u001b[49m\u001b[43m,\u001b[49m\u001b[43m \u001b[49m\u001b[43mis_indefinite\u001b[49m\u001b[38;5;241;43m=\u001b[39;49m\u001b[38;5;28;43;01mFalse\u001b[39;49;00m\u001b[43m,\u001b[49m\u001b[43m \u001b[49m\u001b[43mf_args\u001b[49m\u001b[38;5;241;43m=\u001b[39;49m\u001b[43margs\u001b[49m\u001b[43m)\u001b[49m\n\u001b[1;32m     86\u001b[0m     \u001b[38;5;66;03m# print(f\"{y=}, {I=}\", flush=True)\u001b[39;00m\n\u001b[1;32m     87\u001b[0m     \u001b[38;5;28;01mreturn\u001b[39;00m I\n",
      "File \u001b[0;32m~/Documents/phd/projects/relic_density/KFT-Neutrinos/notebooks/../source/quadrature.py:40\u001b[0m, in \u001b[0;36mGaussKronrod_adapt\u001b[0;34m(f, a, b, rtol, abstol, f_args, is_indefinite)\u001b[0m\n\u001b[1;32m     37\u001b[0m \u001b[38;5;28;01mdef\u001b[39;00m \u001b[38;5;21mGaussKronrod_adapt\u001b[39m(f, a, b, rtol, abstol, f_args, is_indefinite\u001b[38;5;241m=\u001b[39m\u001b[38;5;28;01mFalse\u001b[39;00m):\n\u001b[1;32m     38\u001b[0m     \u001b[38;5;66;03m# Do adaptive Gauss-Kronrod quadrature.\u001b[39;00m\n\u001b[1;32m     39\u001b[0m     \u001b[38;5;66;03m# To integrate between 0 and infinity, set a=0, b=1 and is_indefinite=True on first call\u001b[39;00m\n\u001b[0;32m---> 40\u001b[0m     I, err \u001b[38;5;241m=\u001b[39m \u001b[43mGaussKronrod_quad\u001b[49m\u001b[43m(\u001b[49m\u001b[43mf\u001b[49m\u001b[43m,\u001b[49m\u001b[43m \u001b[49m\u001b[43ma\u001b[49m\u001b[43m,\u001b[49m\u001b[43m \u001b[49m\u001b[43mb\u001b[49m\u001b[43m,\u001b[49m\u001b[43m \u001b[49m\u001b[43mis_indefinite\u001b[49m\u001b[43m,\u001b[49m\u001b[43m \u001b[49m\u001b[43mf_args\u001b[49m\u001b[43m)\u001b[49m\n\u001b[1;32m     41\u001b[0m     \u001b[38;5;66;03m# Stop recursion if tolerance has been made or recursion is too deep:\u001b[39;00m\n\u001b[1;32m     43\u001b[0m     \u001b[38;5;28;01mif\u001b[39;00m (\u001b[38;5;28mabs\u001b[39m(I) \u001b[38;5;241m>\u001b[39m \u001b[38;5;241m0\u001b[39m \u001b[38;5;129;01mand\u001b[39;00m err\u001b[38;5;241m/\u001b[39mI \u001b[38;5;241m<\u001b[39m rtol) \u001b[38;5;129;01mor\u001b[39;00m err \u001b[38;5;241m<\u001b[39m abstol:\n",
      "File \u001b[0;32m~/Documents/phd/projects/relic_density/KFT-Neutrinos/notebooks/../source/quadrature.py:30\u001b[0m, in \u001b[0;36mGaussKronrod_quad\u001b[0;34m(f, a, b, is_indefinite, f_args)\u001b[0m\n\u001b[1;32m     28\u001b[0m     x \u001b[38;5;241m=\u001b[39m t\n\u001b[1;32m     29\u001b[0m \u001b[38;5;66;03m#assert(f_args)\u001b[39;00m\n\u001b[0;32m---> 30\u001b[0m y \u001b[38;5;241m=\u001b[39m np\u001b[38;5;241m.\u001b[39marray([f(xx, f_args\u001b[38;5;241m=\u001b[39mf_args) \u001b[38;5;28;01mfor\u001b[39;00m xx \u001b[38;5;129;01min\u001b[39;00m x])\n\u001b[1;32m     32\u001b[0m Ik \u001b[38;5;241m=\u001b[39m np\u001b[38;5;241m.\u001b[39mdot(y, w_k)\n\u001b[1;32m     33\u001b[0m Ig \u001b[38;5;241m=\u001b[39m np\u001b[38;5;241m.\u001b[39mdot(y[\u001b[38;5;241m1\u001b[39m::\u001b[38;5;241m2\u001b[39m], w_g)\n",
      "File \u001b[0;32m~/Documents/phd/projects/relic_density/KFT-Neutrinos/notebooks/../source/quadrature.py:30\u001b[0m, in \u001b[0;36m<listcomp>\u001b[0;34m(.0)\u001b[0m\n\u001b[1;32m     28\u001b[0m     x \u001b[38;5;241m=\u001b[39m t\n\u001b[1;32m     29\u001b[0m \u001b[38;5;66;03m#assert(f_args)\u001b[39;00m\n\u001b[0;32m---> 30\u001b[0m y \u001b[38;5;241m=\u001b[39m np\u001b[38;5;241m.\u001b[39marray([\u001b[43mf\u001b[49m\u001b[43m(\u001b[49m\u001b[43mxx\u001b[49m\u001b[43m,\u001b[49m\u001b[43m \u001b[49m\u001b[43mf_args\u001b[49m\u001b[38;5;241;43m=\u001b[39;49m\u001b[43mf_args\u001b[49m\u001b[43m)\u001b[49m \u001b[38;5;28;01mfor\u001b[39;00m xx \u001b[38;5;129;01min\u001b[39;00m x])\n\u001b[1;32m     32\u001b[0m Ik \u001b[38;5;241m=\u001b[39m np\u001b[38;5;241m.\u001b[39mdot(y, w_k)\n\u001b[1;32m     33\u001b[0m Ig \u001b[38;5;241m=\u001b[39m np\u001b[38;5;241m.\u001b[39mdot(y[\u001b[38;5;241m1\u001b[39m::\u001b[38;5;241m2\u001b[39m], w_g)\n",
      "File \u001b[0;32m~/Documents/phd/projects/relic_density/KFT-Neutrinos/notebooks/../source/pert_first.py:96\u001b[0m, in \u001b[0;36mintegrand_theta\u001b[0;34m(theta, f_args)\u001b[0m\n\u001b[1;32m     91\u001b[0m args \u001b[38;5;241m=\u001b[39m KftArgs(rtols\u001b[38;5;241m=\u001b[39mf_args\u001b[38;5;241m.\u001b[39mrtols, atols\u001b[38;5;241m=\u001b[39mf_args\u001b[38;5;241m.\u001b[39matols, x_here\u001b[38;5;241m=\u001b[39mf_args\u001b[38;5;241m.\u001b[39mx_here, mnu\u001b[38;5;241m=\u001b[39mf_args\u001b[38;5;241m.\u001b[39mmnu, Tnu\u001b[38;5;241m=\u001b[39mf_args\u001b[38;5;241m.\u001b[39mTnu, f_evals\u001b[38;5;241m=\u001b[39mf_args\u001b[38;5;241m.\u001b[39mf_evals,\n\u001b[1;32m     92\u001b[0m                G0_Gz\u001b[38;5;241m=\u001b[39mf_args\u001b[38;5;241m.\u001b[39mG0_Gz, weight\u001b[38;5;241m=\u001b[39mf_args\u001b[38;5;241m.\u001b[39mweight\u001b[38;5;241m*\u001b[39msintheta, Rs\u001b[38;5;241m=\u001b[39mf_args\u001b[38;5;241m.\u001b[39mRs, p\u001b[38;5;241m=\u001b[39mf_args\u001b[38;5;241m.\u001b[39mp, zlist\u001b[38;5;241m=\u001b[39mf_args\u001b[38;5;241m.\u001b[39mzlist, Gauss_Laguerre\u001b[38;5;241m=\u001b[39mf_args\u001b[38;5;241m.\u001b[39mGauss_Laguerre,\n\u001b[1;32m     93\u001b[0m                theta\u001b[38;5;241m=\u001b[39mtheta, sintheta\u001b[38;5;241m=\u001b[39msintheta, costheta\u001b[38;5;241m=\u001b[39mnp\u001b[38;5;241m.\u001b[39mcos(theta))\n\u001b[1;32m     94\u001b[0m \u001b[38;5;66;03m#print(f\"weight = {f_args.weight}\")\u001b[39;00m\n\u001b[1;32m     95\u001b[0m \u001b[38;5;66;03m#asdf\u001b[39;00m\n\u001b[0;32m---> 96\u001b[0m I, err \u001b[38;5;241m=\u001b[39m \u001b[43mGaussKronrod_adapt\u001b[49m\u001b[43m(\u001b[49m\u001b[43mintegrand_phi\u001b[49m\u001b[43m,\u001b[49m\u001b[43m \u001b[49m\u001b[38;5;241;43m0\u001b[39;49m\u001b[43m,\u001b[49m\u001b[43m \u001b[49m\u001b[38;5;241;43m2\u001b[39;49m\u001b[38;5;241;43m*\u001b[39;49m\u001b[43mnp\u001b[49m\u001b[38;5;241;43m.\u001b[39;49m\u001b[43mpi\u001b[49m\u001b[43m,\u001b[49m\u001b[43m \u001b[49m\u001b[43mf_args\u001b[49m\u001b[38;5;241;43m.\u001b[39;49m\u001b[43mrtols\u001b[49m\u001b[43m[\u001b[49m\u001b[38;5;241;43m3\u001b[39;49m\u001b[43m]\u001b[49m\u001b[43m,\u001b[49m\u001b[43m \u001b[49m\u001b[43mf_args\u001b[49m\u001b[38;5;241;43m.\u001b[39;49m\u001b[43matols\u001b[49m\u001b[43m[\u001b[49m\u001b[38;5;241;43m3\u001b[39;49m\u001b[43m]\u001b[49m\u001b[43m,\u001b[49m\u001b[43m \u001b[49m\u001b[43mis_indefinite\u001b[49m\u001b[38;5;241;43m=\u001b[39;49m\u001b[38;5;28;43;01mFalse\u001b[39;49;00m\u001b[43m,\u001b[49m\u001b[43m \u001b[49m\u001b[43mf_args\u001b[49m\u001b[38;5;241;43m=\u001b[39;49m\u001b[43margs\u001b[49m\u001b[43m)\u001b[49m\n\u001b[1;32m     97\u001b[0m \u001b[38;5;66;03m# print(f\"{theta=}, {I=}\")\u001b[39;00m\n\u001b[1;32m     98\u001b[0m \u001b[38;5;28;01mreturn\u001b[39;00m I\n",
      "File \u001b[0;32m~/Documents/phd/projects/relic_density/KFT-Neutrinos/notebooks/../source/quadrature.py:40\u001b[0m, in \u001b[0;36mGaussKronrod_adapt\u001b[0;34m(f, a, b, rtol, abstol, f_args, is_indefinite)\u001b[0m\n\u001b[1;32m     37\u001b[0m \u001b[38;5;28;01mdef\u001b[39;00m \u001b[38;5;21mGaussKronrod_adapt\u001b[39m(f, a, b, rtol, abstol, f_args, is_indefinite\u001b[38;5;241m=\u001b[39m\u001b[38;5;28;01mFalse\u001b[39;00m):\n\u001b[1;32m     38\u001b[0m     \u001b[38;5;66;03m# Do adaptive Gauss-Kronrod quadrature.\u001b[39;00m\n\u001b[1;32m     39\u001b[0m     \u001b[38;5;66;03m# To integrate between 0 and infinity, set a=0, b=1 and is_indefinite=True on first call\u001b[39;00m\n\u001b[0;32m---> 40\u001b[0m     I, err \u001b[38;5;241m=\u001b[39m \u001b[43mGaussKronrod_quad\u001b[49m\u001b[43m(\u001b[49m\u001b[43mf\u001b[49m\u001b[43m,\u001b[49m\u001b[43m \u001b[49m\u001b[43ma\u001b[49m\u001b[43m,\u001b[49m\u001b[43m \u001b[49m\u001b[43mb\u001b[49m\u001b[43m,\u001b[49m\u001b[43m \u001b[49m\u001b[43mis_indefinite\u001b[49m\u001b[43m,\u001b[49m\u001b[43m \u001b[49m\u001b[43mf_args\u001b[49m\u001b[43m)\u001b[49m\n\u001b[1;32m     41\u001b[0m     \u001b[38;5;66;03m# Stop recursion if tolerance has been made or recursion is too deep:\u001b[39;00m\n\u001b[1;32m     43\u001b[0m     \u001b[38;5;28;01mif\u001b[39;00m (\u001b[38;5;28mabs\u001b[39m(I) \u001b[38;5;241m>\u001b[39m \u001b[38;5;241m0\u001b[39m \u001b[38;5;129;01mand\u001b[39;00m err\u001b[38;5;241m/\u001b[39mI \u001b[38;5;241m<\u001b[39m rtol) \u001b[38;5;129;01mor\u001b[39;00m err \u001b[38;5;241m<\u001b[39m abstol:\n",
      "File \u001b[0;32m~/Documents/phd/projects/relic_density/KFT-Neutrinos/notebooks/../source/quadrature.py:30\u001b[0m, in \u001b[0;36mGaussKronrod_quad\u001b[0;34m(f, a, b, is_indefinite, f_args)\u001b[0m\n\u001b[1;32m     28\u001b[0m     x \u001b[38;5;241m=\u001b[39m t\n\u001b[1;32m     29\u001b[0m \u001b[38;5;66;03m#assert(f_args)\u001b[39;00m\n\u001b[0;32m---> 30\u001b[0m y \u001b[38;5;241m=\u001b[39m np\u001b[38;5;241m.\u001b[39marray([f(xx, f_args\u001b[38;5;241m=\u001b[39mf_args) \u001b[38;5;28;01mfor\u001b[39;00m xx \u001b[38;5;129;01min\u001b[39;00m x])\n\u001b[1;32m     32\u001b[0m Ik \u001b[38;5;241m=\u001b[39m np\u001b[38;5;241m.\u001b[39mdot(y, w_k)\n\u001b[1;32m     33\u001b[0m Ig \u001b[38;5;241m=\u001b[39m np\u001b[38;5;241m.\u001b[39mdot(y[\u001b[38;5;241m1\u001b[39m::\u001b[38;5;241m2\u001b[39m], w_g)\n",
      "File \u001b[0;32m~/Documents/phd/projects/relic_density/KFT-Neutrinos/notebooks/../source/quadrature.py:30\u001b[0m, in \u001b[0;36m<listcomp>\u001b[0;34m(.0)\u001b[0m\n\u001b[1;32m     28\u001b[0m     x \u001b[38;5;241m=\u001b[39m t\n\u001b[1;32m     29\u001b[0m \u001b[38;5;66;03m#assert(f_args)\u001b[39;00m\n\u001b[0;32m---> 30\u001b[0m y \u001b[38;5;241m=\u001b[39m np\u001b[38;5;241m.\u001b[39marray([\u001b[43mf\u001b[49m\u001b[43m(\u001b[49m\u001b[43mxx\u001b[49m\u001b[43m,\u001b[49m\u001b[43m \u001b[49m\u001b[43mf_args\u001b[49m\u001b[38;5;241;43m=\u001b[39;49m\u001b[43mf_args\u001b[49m\u001b[43m)\u001b[49m \u001b[38;5;28;01mfor\u001b[39;00m xx \u001b[38;5;129;01min\u001b[39;00m x])\n\u001b[1;32m     32\u001b[0m Ik \u001b[38;5;241m=\u001b[39m np\u001b[38;5;241m.\u001b[39mdot(y, w_k)\n\u001b[1;32m     33\u001b[0m Ig \u001b[38;5;241m=\u001b[39m np\u001b[38;5;241m.\u001b[39mdot(y[\u001b[38;5;241m1\u001b[39m::\u001b[38;5;241m2\u001b[39m], w_g)\n",
      "File \u001b[0;32m~/Documents/phd/projects/relic_density/KFT-Neutrinos/notebooks/../source/pert_first.py:112\u001b[0m, in \u001b[0;36mintegrand_phi\u001b[0;34m(phi, f_args)\u001b[0m\n\u001b[1;32m    110\u001b[0m \u001b[38;5;28mprint\u001b[39m(\u001b[38;5;124mf\u001b[39m\u001b[38;5;124m\"\u001b[39m\u001b[38;5;124mweight = \u001b[39m\u001b[38;5;132;01m{\u001b[39;00mf_args\u001b[38;5;241m.\u001b[39mweight\u001b[38;5;132;01m}\u001b[39;00m\u001b[38;5;124m\"\u001b[39m)\n\u001b[1;32m    111\u001b[0m \u001b[38;5;28mprint\u001b[39m(\u001b[38;5;124mf\u001b[39m\u001b[38;5;124m\"\u001b[39m\u001b[38;5;132;01m{\u001b[39;00mLapNFW_quick(f_args\u001b[38;5;241m.\u001b[39mx_here \u001b[38;5;241m-\u001b[39m f_args\u001b[38;5;241m.\u001b[39mG0_Gz\u001b[38;5;241m*\u001b[39mp_ini, f_args\u001b[38;5;241m.\u001b[39mRs)\u001b[38;5;132;01m=}\u001b[39;00m\u001b[38;5;124m\"\u001b[39m)\n\u001b[0;32m--> 112\u001b[0m \u001b[43masdf\u001b[49m\n\u001b[1;32m    113\u001b[0m \u001b[38;5;28;01mreturn\u001b[39;00m f_args\u001b[38;5;241m.\u001b[39mweight\u001b[38;5;241m*\u001b[39mLapNFW_quick(f_args\u001b[38;5;241m.\u001b[39mx_here \u001b[38;5;241m-\u001b[39m f_args\u001b[38;5;241m.\u001b[39mG0_Gz\u001b[38;5;241m*\u001b[39mp_ini, f_args\u001b[38;5;241m.\u001b[39mRs)\n",
      "\u001b[0;31mNameError\u001b[0m: name 'asdf' is not defined"
     ]
    }
   ],
   "source": [
    "# reltols and abstols, respectively, in z, p, theta, phi\n",
    "#rtols = [1e-7, 1e-7, 1e-6, 1e-4]\n",
    "#atols = [1e-11, 1e-11, 1e-10, 1e-9]\n",
    "\n",
    "#rtols = [1e-11, 1e-11, 1e-10, 1e-8]\n",
    "#rtols = [1e-15, 1e-15, 1e-14, 1e-12]\n",
    "rtols = [1e-4, 1e-4, 1e-3, 1e-3]\n",
    "atols = [1e-35, 1e-35, 1e-35, 1e-35]\n",
    "GaussLaguerre = 40\n",
    "\n",
    "timer = time()\n",
    "int_gk, f_evals, zbins = pert_first.integral(z_span, rtols, atols, x_here, mnu, Tnu, Gauss_Laguerre=GaussLaguerre)\n",
    "print(int_gk)\n",
    "print(f\"Gauss-Kronrod: At m={mnu:.5} eV: {int_gk:.10} after {time() - timer:.4} seconds and {f_evals} function evaluations\")\n",
    "print(f\"int/free = {(int_free_analytical + int_gk)/int_free_analytical:.5}\")"
   ]
  },
  {
   "cell_type": "code",
   "execution_count": 5,
   "id": "19969e16-881a-4029-99e5-dcdb95248e1c",
   "metadata": {},
   "outputs": [],
   "source": [
    "import kftneutrinos\n",
    "\n",
    "\n",
    "a = ...\n",
    "\n",
    "\n",
    "a[..., :]"
   ]
  },
  {
   "cell_type": "code",
   "execution_count": 6,
   "id": "ccebcb35-67ae-4003-bdec-c922c7434590",
   "metadata": {},
   "outputs": [
    {
     "ename": "SyntaxError",
     "evalue": "invalid syntax (680756085.py, line 1)",
     "output_type": "error",
     "traceback": [
      "\u001b[0;36m  Input \u001b[0;32mIn [6]\u001b[0;36m\u001b[0m\n\u001b[0;31m    kftneutrinos.py_first_order(..)\u001b[0m\n\u001b[0m                                ^\u001b[0m\n\u001b[0;31mSyntaxError\u001b[0m\u001b[0;31m:\u001b[0m invalid syntax\n"
     ]
    }
   ],
   "source": [
    "kftneutrinos.py_first_order(..)"
   ]
  },
  {
   "cell_type": "markdown",
   "id": "9f91af23-ea2d-49a8-8039-401df89a20c1",
   "metadata": {},
   "source": [
    "**Old results**\n",
    "\n",
    "Gauss-Kronrod: At m=0.1 eV: 1.292761895e-10 after 2.586e+04 seconds and 1520332095 function evaluations\n",
    "int/free = 1.2112"
   ]
  },
  {
   "cell_type": "code",
   "execution_count": 5,
   "id": "dac43f69-b69c-4286-867b-c76f0cbd9e40",
   "metadata": {},
   "outputs": [
    {
     "name": "stdout",
     "output_type": "stream",
     "text": [
      "False\n"
     ]
    }
   ],
   "source": [
    "err = 0.01\n",
    "print(err < False)"
   ]
  },
  {
   "cell_type": "markdown",
   "id": "e519ec90-2b3a-4f2a-afff-829db9273844",
   "metadata": {},
   "source": [
    "**Old computation:**"
   ]
  },
  {
   "cell_type": "code",
   "execution_count": 6,
   "id": "71797d0b-3b51-4ec2-a7ec-13137f6d4a2e",
   "metadata": {},
   "outputs": [
    {
     "name": "stdout",
     "output_type": "stream",
     "text": [
      "Logarithmic: At m=0.1 eV: 1.5474e-10 with bins=[10, 5, 5] after 7.546 seconds and 250000 function evaluations\n",
      "int/free = 1.4497\n"
     ]
    }
   ],
   "source": [
    "bins = [10, 5, 5]\n",
    "N_z1 = 1000\n",
    "\n",
    "timer = time()\n",
    "int_first, dets_first = perturbation_old.get_first_order_integral(bins, model.Tnu, x_here, z_span, N_z1, z_binning='log', logz_min=-10)\n",
    "print(f\"Logarithmic: At m={mnu:.5} eV: {int_first:.5} with bins={bins} after {time() - timer:.4} seconds and {N_z1*bins[0]*bins[1]*bins[2]} function evaluations\")\n",
    "print(f\"int/free = {int_first/int_free_analytical:.5}\")"
   ]
  },
  {
   "cell_type": "code",
   "execution_count": 7,
   "id": "63006650-02dc-4a2b-b295-ff7b2b6b9f62",
   "metadata": {},
   "outputs": [],
   "source": [
    "from collections import namedtuple\n",
    "from pert_first import integrand_z"
   ]
  },
  {
   "cell_type": "code",
   "execution_count": null,
   "id": "6d252ecb-65f3-4eb7-bac7-4ee4cdba999f",
   "metadata": {},
   "outputs": [],
   "source": [
    "KftArgs = namedtuple('KftArgs', \n",
    "                     field_names=['rtols', 'atols', 'f_evals', 'x_here', 'mnu', 'Tnu', 'G0_Gz', \n",
    "                                  'weight', 'Rs', 'p', 'theta', 'sintheta', 'costheta', 'zlist'])\n",
    "args = KftArgs(rtols=rtols, atols=atols, x_here=x_here, mnu=mnu, Tnu=Tnu, f_evals=[0], zlist=[],\n",
    "               G0_Gz=1, weight=1, Rs=1, p=1, theta=1, sintheta=1, costheta=1) # dummies"
   ]
  },
  {
   "cell_type": "code",
   "execution_count": null,
   "id": "ac9726b5-d8e3-4679-bf59-c32b379c553d",
   "metadata": {},
   "outputs": [
    {
     "name": "stdout",
     "output_type": "stream",
     "text": [
      "z=1e-07, I=3.1662694536714334e-13\n",
      "z=1.7995852040347335e-07, I=5.697972940728445e-13\n",
      "z=3.2385069065807265e-07, I=1.0253991969729576e-12\n",
      "z=5.82796911224697e-07, I=1.845294583084739e-12\n",
      "z=1.0487926983971087e-06, I=3.3207692913574613e-12\n",
      "z=1.8873918221350995e-06, I=5.976022113680356e-12\n",
      "z=3.3965223973304735e-06, I=1.0754411275208838e-11\n",
      "z=6.112331451408502e-06, I=1.9353655800884247e-11\n",
      "z=1.0999661242110887e-05, I=3.482920334332967e-11\n",
      "z=1.979482762069703e-05, I=6.26806924477327e-11\n",
      "z=3.5622478902624444e-05, I=1.1281030795051857e-10\n",
      "z=6.410568596420239e-05, I=2.0306339683186224e-10\n",
      "z=0.00011536364395567547, I=3.654454088645942e-10\n",
      "z=0.0002076067067461646, I=6.420425178530534e-10\n",
      "z=0.00037360595771877527, I=9.838543683770327e-10\n",
      "z=0.0006723357536499342, I=1.1985802219207714e-09\n",
      "z=0.001209925474411962, I=1.1946388180324029e-09\n",
      "z=0.002177363981736472, I=1.0284061381972456e-09\n",
      "z=0.0039183520053311, I=7.844974408552132e-10\n",
      "z=0.007051408292993675, I=5.33971448729731e-10\n",
      "z=0.012689610031679234, I=3.2577500481901895e-10\n",
      "z=0.022836034457980627, I=1.7990567780771838e-10\n",
      "z=0.04109538972940927, I=9.140575458201602e-11\n",
      "z=0.07395465531108587, I=4.3665397198378346e-11\n",
      "z=0.13308770346731857, I=2.0130822975661738e-11\n",
      "z=0.2395026619987486, I=9.223552806654375e-12\n",
      "z=0.4310054468598798, I=4.327003817455333e-12\n",
      "z=0.7756310250274182, I=2.1308982096247185e-12\n",
      "z=1.395814116429633, I=1.1203573222228679e-12\n",
      "z=2.51188643150958, I=6.312129058173403e-13\n"
     ]
    }
   ],
   "source": [
    "zlist = np.logspace(-7, 0.4, 30)\n",
    "integrands = []\n",
    "for z in zlist:\n",
    "    integrands.append(integrand_z(z, args))"
   ]
  },
  {
   "cell_type": "code",
   "execution_count": null,
   "id": "2b470faa-b7f8-4133-bfa1-8b407633a069",
   "metadata": {},
   "outputs": [
    {
     "data": {
      "text/plain": [
       "[None, None, Text(0.5, 0, '$z$'), Text(0, 0.5, 'integrand_z')]"
      ]
     },
     "execution_count": 10,
     "metadata": {},
     "output_type": "execute_result"
    },
    {
     "data": {
      "image/png": "[encoded data removed]",
      "text/plain": [
       "<Figure size 720x360 with 1 Axes>"
      ]
     },
     "metadata": {
      "needs_background": "light"
     },
     "output_type": "display_data"
    }
   ],
   "source": [
    "fig, ax = plt.subplots(1, 1, figsize=[10, 5])\n",
    "ax.plot(zlist, integrands, 'k.-')\n",
    "ax.plot(zbins, np.zeros(len(zbins)), 'r.', ms=4)\n",
    "ax.set(xscale='log', yscale='linear', xlabel=r'$z$', ylabel='integrand_z')"
   ]
  },
  {
   "cell_type": "code",
   "execution_count": null,
   "id": "e65fde6f-b823-4bb9-8ae1-1e20b6caca67",
   "metadata": {},
   "outputs": [],
   "source": [
    "from model import *\n",
    "from utils import sph2cart\n",
    "from pert_first import integrand_phi"
   ]
  },
  {
   "cell_type": "code",
   "execution_count": null,
   "id": "d6046315-0ca3-4f26-91c5-a2e89f8dd9ce",
   "metadata": {},
   "outputs": [],
   "source": []
  },
  {
   "cell_type": "code",
   "execution_count": null,
   "id": "df9f7587-a5cd-41d4-8a61-fd13a365dd09",
   "metadata": {},
   "outputs": [],
   "source": [
    "y = 0.1\n",
    "theta = 0.1\n",
    "phi = 0.1\n",
    "z = 0.001\n",
    "p = Tnu*y\n",
    "p_ini = np.array([p, theta, phi])\n",
    "con = conc(z)\n",
    "Rs = Rs_quick(z, conc, H(z))\n",
    "G0_Gz = Green_quick(0, mnu) - Green_quick(z, mnu)\n",
    "weight = mnu*G0_Gz/(1 + z)/Hz*4*np.pi*G*rho0_quick(z, Rs, con)*Rs**3/speedoflight**2*m_to_kpc*p**2/(1 + np.exp(p/Tnu))*np.sin(theta)\n",
    "args = KftArgs(rtols=rtols, atols=atols, x_here=x_here, mnu=mnu, Tnu=Tnu, f_evals=[0], zlist=[],\n",
    "               G0_Gz=G0_Gz, weight=weight, Rs=Rs, p=p, theta=theta, sintheta=np.sin(theta), costheta=np.cos(theta))\n",
    "new = integrand_phi(phi, f_args=args)\n",
    "\n",
    "# old first order computation; for comparison\n",
    "old = mnu*(Green(0) - Green(z))*LapNFW(x_here - (Green(0) - Green(z))*sph2cart(p_ini), z)/(1 + z)/H(z)*np.sin(theta)*p**2/(1 + np.exp(p))\n",
    "\n",
    "print(f\"{new=}, {old=}\")"
   ]
  },
  {
   "cell_type": "markdown",
   "id": "75f0219d-04b9-4768-9941-2d60952c2c01",
   "metadata": {},
   "source": [
    "It is as if the adaptive quadrature does not execute on the left intervals, only the right ones..."
   ]
  },
  {
   "cell_type": "code",
   "execution_count": null,
   "id": "d7397f4e-690c-4ad7-9b11-840ba0628000",
   "metadata": {},
   "outputs": [],
   "source": []
  },
  {
   "cell_type": "markdown",
   "id": "e9d044a2-2f2b-4f92-be9f-63be1481bdcc",
   "metadata": {},
   "source": [
    "### TESTS"
   ]
  },
  {
   "cell_type": "code",
   "execution_count": 9,
   "id": "26ac191c-1a01-4b75-8537-598a95379d2b",
   "metadata": {},
   "outputs": [],
   "source": [
    "from quadrature import GaussKronrod_adapt, GaussLaguerre\n",
    "\n",
    "def FermiDirac(q, f_args):\n",
    "    return 1.0/(1 + np.exp(q))"
   ]
  },
  {
   "cell_type": "code",
   "execution_count": 10,
   "id": "df5462b0-bd95-4390-b616-a3b0c349b837",
   "metadata": {},
   "outputs": [
    {
     "name": "stdout",
     "output_type": "stream",
     "text": [
      "0.693146874667173\n"
     ]
    }
   ],
   "source": [
    "I, err = GaussKronrod_adapt(FermiDirac, *[0, 15], 1e-2, 1e-25, is_indefinite=False, f_args=[])\n",
    "print(I)"
   ]
  },
  {
   "cell_type": "code",
   "execution_count": 14,
   "id": "b6849425-078e-43f8-9cd3-21433cb3281a",
   "metadata": {},
   "outputs": [
    {
     "name": "stdout",
     "output_type": "stream",
     "text": [
      "0.6931471805601191\n"
     ]
    }
   ],
   "source": [
    "I = GaussLaguerre(FermiDirac, 40, f_args=[])\n",
    "print(I)"
   ]
  },
  {
   "cell_type": "code",
   "execution_count": null,
   "id": "d452cfe0-759d-4754-9c54-4c3df8b6f16a",
   "metadata": {},
   "outputs": [],
   "source": []
  }
 ],
 "metadata": {
  "kernelspec": {
   "display_name": "Python 3 (ipykernel)",
   "language": "python",
   "name": "python3"
  },
  "language_info": {
   "codemirror_mode": {
    "name": "ipython",
    "version": 3
   },
   "file_extension": ".py",
   "mimetype": "text/x-python",
   "name": "python",
   "nbconvert_exporter": "python",
   "pygments_lexer": "ipython3",
   "version": "3.10.5"
  }
 },
 "nbformat": 4,
 "nbformat_minor": 5
}
