{
 "cells": [
  {
   "cell_type": "markdown",
   "id": "61db177f-7525-4543-b5ad-650532b26ec9",
   "metadata": {},
   "source": [
    "### Notebook computing the relic neutrino density using KFT for a range of neutrino masses"
   ]
  },
  {
   "cell_type": "code",
   "execution_count": null,
   "id": "aec39541-9cd4-4033-b4a7-02ae6d7a273b",
   "metadata": {},
   "outputs": [],
   "source": []
  }
 ],
 "metadata": {
  "kernelspec": {
   "display_name": "Python 3 (ipykernel)",
   "language": "python",
   "name": "python3"
  },
  "language_info": {
   "codemirror_mode": {
    "name": "ipython",
    "version": 3
   },
   "file_extension": ".py",
   "mimetype": "text/x-python",
   "name": "python",
   "nbconvert_exporter": "python",
   "pygments_lexer": "ipython3",
   "version": "3.10.5"
  }
 },
 "nbformat": 4,
 "nbformat_minor": 5
}
