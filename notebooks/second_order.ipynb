{
 "cells": [
  {
   "cell_type": "code",
   "execution_count": 1,
   "id": "f80f2063-fd95-4a04-af58-2a0b86df85c5",
   "metadata": {},
   "outputs": [],
   "source": [
    "from time import time\n",
    "from time import perf_counter\n",
    "import numpy as np\n",
    "import matplotlib.pyplot as plt\n",
    "import matplotlib\n",
    "from kftneutrinos import py_first_order, py_second_order_kft"
   ]
  },
  {
   "cell_type": "code",
   "execution_count": 2,
   "id": "f5cb97ca-d9c7-4d7c-ac84-beb202038bae",
   "metadata": {},
   "outputs": [],
   "source": [
    "# The textwidth should be that of your TeX document, in pts (points).\n",
    "# To get it, place\n",
    "#   \\showthe\\textwidth\n",
    "# inside your TeX document, recompile and search the logs.\n",
    "# To grab it directly, compile your document using\n",
    "#   pdflatex -interaction=nonstopmode document.tex | grep '>.*pt\\.'\n",
    "height = 2\n",
    "fontsize = 11/1.2\n",
    "fontsize = 11/1.2*4\n",
    "cm = 1/2.54  # centimeters in inches\n",
    "width = 8.6*cm # PRL figure width\n",
    "\n",
    "latex_preamble = r'''\n",
    "    \\usepackage{lmodern}\n",
    "    \\usepackage{amsmath}\n",
    "    \\usepackage{amsfonts}\n",
    "    \\usepackage{mathtools}\n",
    "    \\usepackage{siunitx}\n",
    "'''\n",
    "matplotlib.rcParams.update({\n",
    "    'text.usetex'        : True,\n",
    "    'font.family'        : 'serif',\n",
    "    'font.serif'         : 'cmr10',\n",
    "    'font.size'          : fontsize,\n",
    "    'mathtext.fontset'   : 'cm',\n",
    "    'text.latex.preamble': latex_preamble,\n",
    "})\n",
    "Hubbles_to_Gyr = 0.001022"
   ]
  },
  {
   "cell_type": "markdown",
   "id": "391164f2-abf2-4390-aca7-70cdb0a9bc43",
   "metadata": {},
   "source": [
    "**-------Input-------**"
   ]
  },
  {
   "cell_type": "code",
   "execution_count": 3,
   "id": "f2c17c59-d0de-4883-b6dc-bb6ec752d7ec",
   "metadata": {},
   "outputs": [],
   "source": [
    "r_here = 8.0\n",
    "z_ini = 3.0\n",
    "Tnu = 0.0001676375864435959\n",
    "Mvir_over_Msun = 2.03e+12\n",
    "\n",
    "#masses = [0.0005, 0.001, 0.005, 0.01, 0.05, 0.1, 0.3]\n",
    "masses = [0.005, 0.05, 0.1, 0.3]\n",
    "#masses = np.logspace(-4., -0.2, 7)\n",
    "\n",
    "Gauss_Laguerre = 80\n",
    "rtols = np.array([1e-7, 1e-5, 1e-5])\n",
    "atols = np.array([1e-35, 1e-35, 1e-35])\n",
    "\n",
    "rtols_2 = np.array([1e-6, 1e-5, 1e-5, 1e-5])\n",
    "atols_2 = np.array([1e-35, 1e-35, 1e-35, 1e-35])\n",
    "\n",
    "\n",
    "masses = np.array(masses)"
   ]
  },
  {
   "cell_type": "code",
   "execution_count": 4,
   "id": "04bbf5ad-5cee-41fd-b457-22424b0c9a77",
   "metadata": {},
   "outputs": [
    {
     "name": "stdout",
     "output_type": "stream",
     "text": [
      "The analytical free integral is 1.06738178968e-10.\n",
      "Computed 4 1PT values in 0.028656 seconds.\n"
     ]
    }
   ],
   "source": [
    "int_free_analytical = 4*np.pi*1.803*Tnu**3\n",
    "print(f\"The analytical free integral is {int_free_analytical:.12}.\")\n",
    "\n",
    "mertsch = {}\n",
    "mertsch_data_labels = ['nfw', 'nfw_baryons', 'nfw_baryons_virgo', 'nfw_baryons_virgo_andromeda']\n",
    "for label in mertsch_data_labels:\n",
    "    mertsch[label] = np.genfromtxt('../data/mertsch_'+label+'.txt', delimiter=', ')\n",
    "\n",
    "first_list = []\n",
    "tic = time()\n",
    "for mass in masses:\n",
    "    val = py_first_order(mass, z_ini, rtols, atols, r_here, Mvir_over_Msun, Gauss_Laguerre, Tnu)\n",
    "    first_list.append(val)\n",
    "toc = time()\n",
    "print(f\"Computed {len(masses)} 1PT values in {toc - tic:.5} seconds.\")\n",
    "first = np.array(first_list)/int_free_analytical"
   ]
  },
  {
   "cell_type": "markdown",
   "id": "40213555-efc7-41e5-9390-47681e9f9528",
   "metadata": {},
   "source": [
    "# With second order"
   ]
  },
  {
   "cell_type": "code",
   "execution_count": 5,
   "id": "1f7402ba-3c63-4455-a3ec-64ac622ecbc6",
   "metadata": {},
   "outputs": [
    {
     "name": "stdout",
     "output_type": "stream",
     "text": [
      "Computed mass=0.005 in 0.039023 seconds.\n",
      "Computed mass=0.05 in 0.038466 seconds.\n",
      "Computed mass=0.1 in 0.038414 seconds.\n",
      "Computed mass=0.3 in 0.23469 seconds.\n"
     ]
    }
   ],
   "source": [
    "second_kft_list = []\n",
    "for mass in masses:\n",
    "    tic = perf_counter()\n",
    "    val2 = py_second_order_kft(mass, z_ini, rtols_2, atols_2, r_here, Mvir_over_Msun, Gauss_Laguerre, Tnu)\n",
    "    toc = perf_counter()\n",
    "    print(f\"Computed {mass=} in {toc - tic:.5} seconds.\")\n",
    "    second_kft_list.append(val2)\n",
    "\n",
    "second_kft = (np.array(first_list) + np.array(second_kft_list))/int_free_analytical"
   ]
  },
  {
   "cell_type": "code",
   "execution_count": 6,
   "id": "3922fb2b-3476-4b82-9c2e-9efb197d1427",
   "metadata": {},
   "outputs": [
    {
     "name": "stderr",
     "output_type": "stream",
     "text": [
      "/var/folders/zr/zbvzsdtx4kzb3_fpksfqd3xx5jyp_x/T/ipykernel_86049/470218939.py:4: UserWarning: cmr10 font should ideally be used with mathtext, set axes.formatter.use_mathtext to True\n",
      "  fig, ax = plt.subplots(1, 1, figsize=[5, 3])\n"
     ]
    },
    {
     "data": {
      "image/png": "[encoded data removed]",
      "text/plain": [
       "<Figure size 360x216 with 1 Axes>"
      ]
     },
     "metadata": {
      "needs_background": "light"
     },
     "output_type": "display_data"
    }
   ],
   "source": [
    "masses = np.array(masses)\n",
    "lwidth=2\n",
    "mss=8\n",
    "fig, ax = plt.subplots(1, 1, figsize=[5, 3])\n",
    "ax.set_title(f\"Mvir={Mvir_over_Msun:.2e} Msun, radius={r_here} kpc\")\n",
    "#ax.plot(mertsch['nfw'][:, 0]*1e-3, mertsch['nfw'][:, 1], '-', label=f\"Mertsch+2019\", lw=lwidth)\n",
    "ax.plot(masses, first, 'r--', markersize=mss, label='1PT', lw=lwidth)\n",
    "ax.plot(masses, second_kft, 'm.-', markersize=mss, label='2PT KFT', lw=lwidth)\n",
    "ax.set(xlabel='m [eV]', ylabel=r'$n_\\nu / n_{\\nu,0}$', xscale='log', yscale='log')\n",
    "# ax.set(xlim=[1e-3, 8e-1], ylim=[1e-4, 1e+3], xticks=[1e-2, 3e-2, 1e-1, 3e-1], yticks=[1e-3, 1e-2, 1e-1, 1e-0, 1e+1])\n",
    "#ax.set(xlim=[min(masses)*45, max(masses)])\n",
    "#ax.legend(frameon=True, bbox_to_anchor=(0.5, 1.1), ncol=4, loc='center')\n",
    "ax.legend(frameon=True, ncol=4)\n",
    "ax.grid()\n",
    "fig.subplots_adjust(bottom=0.2205, left=0.195)\n",
    "fig.savefig('second.pdf')"
   ]
  },
  {
   "cell_type": "markdown",
   "id": "d8ad1699-0cc8-4576-8622-cae5ceadd203",
   "metadata": {
    "tags": []
   },
   "source": [
    "NB: Currently omitting the Kepler potential, i.e. only using NFW profile."
   ]
  },
  {
   "cell_type": "markdown",
   "id": "09317325",
   "metadata": {},
   "source": [
    "# Second order, individual terms, KFT"
   ]
  },
  {
   "cell_type": "code",
   "execution_count": 7,
   "id": "7035a01d",
   "metadata": {},
   "outputs": [
    {
     "name": "stdout",
     "output_type": "stream",
     "text": [
      "Computed 16 2PT values in 0.88105 seconds.\n"
     ]
    }
   ],
   "source": [
    "kft_term1_list = []\n",
    "kft_term2_list = []\n",
    "kft_term3_list = []\n",
    "kft_term4_list = []\n",
    "tic = time()\n",
    "for mass in masses:\n",
    "    val1 = py_second_order_kft(mass, z_ini, rtols_2, atols_2, r_here, Mvir_over_Msun, Gauss_Laguerre, terms_flag=1, Tnu=Tnu)\n",
    "    kft_term1_list.append(val1)\n",
    "    val2 = py_second_order_kft(mass, z_ini, rtols_2, atols_2, r_here, Mvir_over_Msun, Gauss_Laguerre, terms_flag=2, Tnu=Tnu)\n",
    "    kft_term2_list.append(val2)\n",
    "    val3 = py_second_order_kft(mass, z_ini, rtols_2, atols_2, r_here, Mvir_over_Msun, Gauss_Laguerre, terms_flag=3, Tnu=Tnu)\n",
    "    kft_term3_list.append(val3)\n",
    "    val4 = py_second_order_kft(mass, z_ini, rtols_2, atols_2, r_here, Mvir_over_Msun, Gauss_Laguerre, terms_flag=4, Tnu=Tnu)\n",
    "    kft_term4_list.append(val4)\n",
    "toc = time()\n",
    "print(f\"Computed {4*len(masses)} 2PT values in {toc - tic:.5} seconds.\")\n",
    "kft_term1 = (np.array(first_list) + np.array(kft_term1_list))/int_free_analytical\n",
    "kft_term2 = (np.array(first_list) + np.array(kft_term2_list))/int_free_analytical\n",
    "kft_term3 = (np.array(first_list) + np.array(kft_term3_list))/int_free_analytical\n",
    "kft_term4 = (np.array(first_list) + np.array(kft_term4_list))/int_free_analytical"
   ]
  },
  {
   "cell_type": "code",
   "execution_count": 8,
   "id": "3cc15d96",
   "metadata": {},
   "outputs": [
    {
     "name": "stderr",
     "output_type": "stream",
     "text": [
      "/var/folders/zr/zbvzsdtx4kzb3_fpksfqd3xx5jyp_x/T/ipykernel_86049/1626801792.py:4: UserWarning: cmr10 font should ideally be used with mathtext, set axes.formatter.use_mathtext to True\n",
      "  fig, ax = plt.subplots(1, 1, figsize=[5, 3])\n"
     ]
    },
    {
     "data": {
      "image/png": "[encoded data removed]",
      "text/plain": [
       "<Figure size 360x216 with 1 Axes>"
      ]
     },
     "metadata": {
      "needs_background": "light"
     },
     "output_type": "display_data"
    }
   ],
   "source": [
    "masses = np.array(masses)\n",
    "lwidth=2\n",
    "mss=8\n",
    "fig, ax = plt.subplots(1, 1, figsize=[5, 3])\n",
    "ax.plot(mertsch['nfw'][:, 0]*1e-3, mertsch['nfw'][:, 1], '-', label=f\"Mertsch+2019\", lw=lwidth)\n",
    "ax.plot(masses, first, 'r--', markersize=mss, label='1PT', lw=lwidth)\n",
    "ax.plot(masses, kft_term1, '.-', markersize=mss, label='2PT KFT term 1', lw=lwidth)\n",
    "ax.plot(masses, kft_term2, '.-', markersize=mss, label='2PT KFT term 2', lw=lwidth)\n",
    "ax.plot(masses, kft_term3, '.-', markersize=mss, label='2PT KFT term 3', lw=lwidth)\n",
    "ax.plot(masses, kft_term4, '.-', markersize=mss, label='2PT KFT term 4', lw=lwidth)\n",
    "ax.set(xlabel='m [eV]', ylabel=r'$n_\\nu / n_{\\nu,0}$', xscale='log', yscale='log', xlim=[1e-3, 8e-1], ylim=[1e-4, 1e+3], xticks=[1e-2, 3e-2, 1e-1, 3e-1], yticks=[1e-3, 1e-2, 1e-1, 1e-0, 1e+1])\n",
    "ax.set(xlim=[min(masses)*45, max(masses)])\n",
    "ax.legend(frameon=True, bbox_to_anchor=(0.5, 1.1), ncol=2, loc='center')\n",
    "ax.grid()\n",
    "fig.subplots_adjust(bottom=0.2205, left=0.195)\n",
    "fig.savefig('kft_terms.pdf')"
   ]
  },
  {
   "cell_type": "markdown",
   "id": "96b17b39-390b-4b87-837d-bd4cb4882d2b",
   "metadata": {},
   "source": [
    "# (z2, z1)-integrands"
   ]
  },
  {
   "cell_type": "code",
   "execution_count": 9,
   "id": "1f9cf53b-6e36-46c3-a968-02db2d792c99",
   "metadata": {},
   "outputs": [],
   "source": [
    "from kftneutrinos import py_second_integrand_z1z2_kft"
   ]
  },
  {
   "cell_type": "code",
   "execution_count": 10,
   "id": "96a01a60-be25-49f9-8ff8-7526c0c7995f",
   "metadata": {},
   "outputs": [],
   "source": [
    "z2list = np.linspace(0.0, 2., 500)\n",
    "z1list = z2list\n",
    "\n",
    "mass = 0.05\n",
    "\n",
    "integrand_matrix = np.zeros((len(z2list), len(z1list)))\n",
    "\n",
    "for idx_z2 in range(len(z2list)):\n",
    "    for idx_z1 in range(len(z1list)):\n",
    "        if idx_z1 <= idx_z2:\n",
    "            new_integrand = py_second_integrand_z1z2_kft(z2list[idx_z2], z1list[idx_z1], mass, z_ini, rtols_2, atols_2, r_here, Mvir_over_Msun, Gauss_Laguerre, Tnu)\n",
    "            integrand_matrix[idx_z2, idx_z1] = new_integrand\n",
    "integrand_matrix = np.abs(integrand_matrix)"
   ]
  },
  {
   "cell_type": "code",
   "execution_count": 11,
   "id": "a24522b9-a5e3-4856-be2a-06ae45081a6b",
   "metadata": {},
   "outputs": [
    {
     "name": "stderr",
     "output_type": "stream",
     "text": [
      "/var/folders/zr/zbvzsdtx4kzb3_fpksfqd3xx5jyp_x/T/ipykernel_86049/2189789519.py:1: UserWarning: cmr10 font should ideally be used with mathtext, set axes.formatter.use_mathtext to True\n",
      "  fig, ax = plt.subplots(1, 1, figsize=(2*width, 2*height))\n",
      "/var/folders/zr/zbvzsdtx4kzb3_fpksfqd3xx5jyp_x/T/ipykernel_86049/2189789519.py:3: RuntimeWarning: divide by zero encountered in log10\n",
      "  im = ax.imshow(np.log10(integrand_matrix), origin='lower',extent=[min(z2list), max(z2list), min(z1list), max(z2list)], aspect='equal')\n",
      "/var/folders/zr/zbvzsdtx4kzb3_fpksfqd3xx5jyp_x/T/ipykernel_86049/2189789519.py:5: UserWarning: cmr10 font should ideally be used with mathtext, set axes.formatter.use_mathtext to True\n",
      "  fig.colorbar(im)\n"
     ]
    },
    {
     "data": {
      "image/png": "[encoded data removed]",
      "text/plain": [
       "<Figure size 487.559x288 with 2 Axes>"
      ]
     },
     "metadata": {
      "needs_background": "light"
     },
     "output_type": "display_data"
    }
   ],
   "source": [
    "fig, ax = plt.subplots(1, 1, figsize=(2*width, 2*height))\n",
    "ax.set_title(f'2nd order (z2,z1)-integrands, abs, log, $m$={mass} eV, r={r_here} kpc')\n",
    "im = ax.imshow(np.log10(integrand_matrix), origin='lower',extent=[min(z2list), max(z2list), min(z1list), max(z2list)], aspect='equal')\n",
    "ax.set(xlabel='z1', ylabel='z2')\n",
    "fig.colorbar(im)\n",
    "fig.savefig('integrands.pdf')"
   ]
  },
  {
   "cell_type": "markdown",
   "id": "335e80a4-64d5-406c-aa19-aa20f7b2dbeb",
   "metadata": {},
   "source": [
    "# Density profile"
   ]
  },
  {
   "cell_type": "code",
   "execution_count": 12,
   "id": "e5d3718a-25a5-4b69-b2cd-3336c945585e",
   "metadata": {},
   "outputs": [
    {
     "name": "stdout",
     "output_type": "stream",
     "text": [
      "Computed r=0.1 in 0.0585 s.\n",
      "Computed r=0.20691380811147897 in 0.0561 s.\n",
      "Computed r=0.42813323987193935 in 0.0525 s.\n",
      "Computed r=0.8858667904100825 in 0.0526 s.\n",
      "Computed r=1.8329807108324356 in 0.0501 s.\n",
      "Computed r=3.79269019073225 in 0.0482 s.\n",
      "Computed r=7.847599703514611 in 0.0458 s.\n",
      "Computed r=16.23776739188721 in 0.045 s.\n",
      "Computed r=33.59818286283781 in 0.0421 s.\n",
      "Computed r=69.51927961775606 in 0.041 s.\n",
      "Computed r=143.8449888287663 in 0.0409 s.\n",
      "Computed r=297.6351441631316 in 0.0389 s.\n",
      "Computed r=615.8482110660261 in 0.0385 s.\n",
      "Computed r=1274.2749857031322 in 0.0387 s.\n",
      "Computed r=2636.6508987303555 in 0.0389 s.\n",
      "Computed r=5455.594781168515 in 0.0384 s.\n",
      "Computed r=11288.378916846883 in 0.0387 s.\n",
      "Computed r=23357.21469090121 in 0.0384 s.\n",
      "Computed r=48329.30238571752 in 0.0385 s.\n",
      "Computed r=100000.0 in 0.0387 s.\n"
     ]
    }
   ],
   "source": [
    "mass = 0.05\n",
    "# Radii in profile, kpc\n",
    "rlist = np.linspace(0.1, 15.0, 15)\n",
    "rlist = np.logspace(-1, 5, 20)\n",
    "first_list = []\n",
    "second_list = []\n",
    "for r in rlist:\n",
    "    tic = perf_counter()\n",
    "    first_list.append(py_first_order(mass, z_ini, rtols, atols, r, Mvir_over_Msun, Gauss_Laguerre, Tnu))\n",
    "    second_list.append(py_second_order_kft(mass, z_ini, rtols_2, atols_2, r, Mvir_over_Msun, Gauss_Laguerre, Tnu))\n",
    "    print(f\"Computed {r=} in {perf_counter() - tic:.3} s.\")\n",
    "first = np.array(first_list)/int_free_analytical\n",
    "second = (np.array(first_list) + np.array(second_list))/int_free_analytical"
   ]
  },
  {
   "cell_type": "code",
   "execution_count": 13,
   "id": "82c7fdfc-e1f8-4d07-a834-81bf5adb615d",
   "metadata": {},
   "outputs": [
    {
     "name": "stderr",
     "output_type": "stream",
     "text": [
      "/var/folders/zr/zbvzsdtx4kzb3_fpksfqd3xx5jyp_x/T/ipykernel_86049/4127683325.py:1: UserWarning: cmr10 font should ideally be used with mathtext, set axes.formatter.use_mathtext to True\n",
      "  fig, ax = plt.subplots(2, 1, figsize=[5, 5])\n"
     ]
    },
    {
     "data": {
      "image/png": "[encoded data removed]",
      "text/plain": [
       "<Figure size 360x360 with 2 Axes>"
      ]
     },
     "metadata": {
      "needs_background": "light"
     },
     "output_type": "display_data"
    }
   ],
   "source": [
    "fig, ax = plt.subplots(2, 1, figsize=[5, 5])\n",
    "ax[0].set_title(f\"$m={mass}$ eV, Mvir=2.03e+12 Msun\")\n",
    "ax[0].plot(rlist, first, 'r.-', label='1st KFT')\n",
    "ax[1].plot(rlist, second, 'm.-', label='2nd KFT')\n",
    "ax[0].set(ylabel=r'$n_\\nu / n_{\\nu,0}$')\n",
    "ax[1].set(xlabel=r'$r$ [kpc]', ylabel=r'$n_\\nu / n_{\\nu,0}$')\n",
    "for axis in ax:\n",
    "    axis.set(xscale='log', yscale='log')\n",
    "ax[0].legend()\n",
    "ax[1].legend()\n",
    "fig.subplots_adjust(bottom=0.1505, left=0.195, hspace=0)\n",
    "fig.savefig('density_profile.pdf')"
   ]
  },
  {
   "cell_type": "markdown",
   "id": "6a525ee0-ab4f-44c6-89c5-0e23fad3862a",
   "metadata": {},
   "source": [
    "# Dependence on z_ini"
   ]
  },
  {
   "cell_type": "code",
   "execution_count": 14,
   "id": "f9d367aa-fc00-410d-ad57-78f864d7f76c",
   "metadata": {},
   "outputs": [
    {
     "name": "stdout",
     "output_type": "stream",
     "text": [
      "Computed z_ini=0.001 in 0.0412 s.\n",
      "Computed z_ini=0.00324422607917163 in 0.0455 s.\n",
      "Computed z_ini=0.010525002852777327 in 0.0477 s.\n",
      "Computed z_ini=0.034145488738336005 in 0.152 s.\n",
      "Computed z_ini=0.11077568505097087 in 0.0456 s.\n",
      "Computed z_ini=0.3593813663804626 in 0.045 s.\n",
      "Computed z_ini=1.165914401179831 in 0.153 s.\n",
      "Computed z_ini=3.782489906389382 in 0.0454 s.\n",
      "Computed z_ini=12.27125239851189 in 0.0446 s.\n",
      "Computed z_ini=39.810717055349734 in 0.0392 s.\n"
     ]
    }
   ],
   "source": [
    "mass = 0.05\n",
    "r = 8.0\n",
    "z_ini_list = np.logspace(-3, 1.6, 10)\n",
    "first_list = []\n",
    "second_list = []\n",
    "for z_ini in z_ini_list:\n",
    "    tic = perf_counter()\n",
    "    first_list.append(py_first_order(mass, z_ini, rtols, atols, r, Mvir_over_Msun, Gauss_Laguerre, Tnu))\n",
    "    second_list.append(py_second_order_kft(mass, z_ini, rtols_2, atols_2, r, Mvir_over_Msun, Gauss_Laguerre, Tnu))\n",
    "    print(f\"Computed {z_ini=} in {perf_counter() - tic:.3} s.\")\n",
    "first = np.array(first_list)/int_free_analytical\n",
    "second = (np.array(first_list) + np.array(second_list))/int_free_analytical"
   ]
  },
  {
   "cell_type": "code",
   "execution_count": 15,
   "id": "5d351420-08be-472a-8990-8fb0aefea4c0",
   "metadata": {},
   "outputs": [
    {
     "name": "stderr",
     "output_type": "stream",
     "text": [
      "/var/folders/zr/zbvzsdtx4kzb3_fpksfqd3xx5jyp_x/T/ipykernel_86049/923758713.py:1: UserWarning: cmr10 font should ideally be used with mathtext, set axes.formatter.use_mathtext to True\n",
      "  fig, ax = plt.subplots(2, 1, figsize=[5, 5])\n"
     ]
    },
    {
     "data": {
      "image/png": "[encoded data removed]",
      "text/plain": [
       "<Figure size 360x360 with 2 Axes>"
      ]
     },
     "metadata": {
      "needs_background": "light"
     },
     "output_type": "display_data"
    }
   ],
   "source": [
    "fig, ax = plt.subplots(2, 1, figsize=[5, 5])\n",
    "ax[0].set_title(f\"$m={mass}$ eV, $r={r}$, Mvir=2.03e+12 Msun\")\n",
    "ax[0].plot(z_ini_list, first, 'r.-', label='1st KFT')\n",
    "ax[1].plot(z_ini_list, second, 'm.-', label='2nd KFT')\n",
    "ax[0].set(ylabel=r'$n_\\nu / n_{\\nu,0}$')\n",
    "ax[1].set(xlabel=r'$z_\\mathrm{ini}$', ylabel=r'$n_\\nu / n_{\\nu,0}$')\n",
    "for axis in ax:\n",
    "    axis.set(xscale='log', yscale='log')\n",
    "ax[0].legend()\n",
    "ax[1].legend()\n",
    "fig.subplots_adjust(bottom=0.1505, left=0.195, hspace=0)\n",
    "fig.savefig('z_ini_profile.pdf')"
   ]
  },
  {
   "cell_type": "code",
   "execution_count": null,
   "id": "4a5d9bd2-4ea2-4437-bf80-0c8c1a402008",
   "metadata": {},
   "outputs": [],
   "source": []
  }
 ],
 "metadata": {
  "kernelspec": {
   "display_name": "Python 3 (ipykernel)",
   "language": "python",
   "name": "python3"
  },
  "language_info": {
   "codemirror_mode": {
    "name": "ipython",
    "version": 3
   },
   "file_extension": ".py",
   "mimetype": "text/x-python",
   "name": "python",
   "nbconvert_exporter": "python",
   "pygments_lexer": "ipython3",
   "version": "3.10.5"
  }
 },
 "nbformat": 4,
 "nbformat_minor": 5
}
