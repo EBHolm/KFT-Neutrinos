{
 "cells": [
  {
   "cell_type": "code",
   "execution_count": 1,
   "id": "f80f2063-fd95-4a04-af58-2a0b86df85c5",
   "metadata": {},
   "outputs": [],
   "source": [
    "from time import time\n",
    "import numpy as np\n",
    "import matplotlib.pyplot as plt\n",
    "import matplotlib"
   ]
  },
  {
   "cell_type": "code",
   "execution_count": 2,
   "id": "da0b1b6f-1d47-4afc-a0a5-4bb5c61dfe03",
   "metadata": {},
   "outputs": [],
   "source": [
    "from kftneutrinos import py_first_order, py_second_order_vlasov, py_second_order_kft"
   ]
  },
  {
   "cell_type": "code",
   "execution_count": 3,
   "id": "f5cb97ca-d9c7-4d7c-ac84-beb202038bae",
   "metadata": {},
   "outputs": [],
   "source": [
    "# The textwidth should be that of your TeX document, in pts (points).\n",
    "# To get it, place\n",
    "#   \\showthe\\textwidth\n",
    "# inside your TeX document, recompile and search the logs.\n",
    "# To grab it directly, compile your document using\n",
    "#   pdflatex -interaction=nonstopmode document.tex | grep '>.*pt\\.'\n",
    "height = 2\n",
    "fontsize = 11/1.2\n",
    "fontsize = 11/1.2*4\n",
    "cm = 1/2.54  # centimeters in inches\n",
    "width = 8.6*cm # PRL figure width\n",
    "\n",
    "latex_preamble = r'''\n",
    "    \\usepackage{lmodern}\n",
    "    \\usepackage{amsmath}\n",
    "    \\usepackage{amsfonts}\n",
    "    \\usepackage{mathtools}\n",
    "    \\usepackage{siunitx}\n",
    "'''\n",
    "matplotlib.rcParams.update({\n",
    "    'text.usetex'        : True,\n",
    "    'font.family'        : 'serif',\n",
    "    'font.serif'         : 'cmr10',\n",
    "    'font.size'          : fontsize,\n",
    "    'mathtext.fontset'   : 'cm',\n",
    "    'text.latex.preamble': latex_preamble,\n",
    "})\n",
    "Hubbles_to_Gyr = 0.001022"
   ]
  },
  {
   "cell_type": "markdown",
   "id": "391164f2-abf2-4390-aca7-70cdb0a9bc43",
   "metadata": {},
   "source": [
    "**-------Input-------**"
   ]
  },
  {
   "cell_type": "code",
   "execution_count": 4,
   "id": "f2c17c59-d0de-4883-b6dc-bb6ec752d7ec",
   "metadata": {},
   "outputs": [],
   "source": [
    "r_here = 8.0\n",
    "z_ini = 3.0\n",
    "Tnu = 0.0001676375864435959\n",
    "\n",
    "#masses = [0.0005, 0.001, 0.005, 0.01, 0.05, 0.1, 0.3]\n",
    "#masses = [0.005, 0.05, 0.1, 0.3]\n",
    "masses = np.logspace(-4.8, -0.2, 5)\n",
    "\n",
    "Gauss_Laguerre = 80\n",
    "rtols = np.array([1e-7, 1e-5, 1e-5])\n",
    "atols = np.array([1e-35, 1e-35, 1e-35])\n",
    "\n",
    "rtols_2 = np.array([1e-5, 1e-4, 1e-4, 1e-4])\n",
    "atols_2 = np.array([1e-35, 1e-35, 1e-35, 1e-35])\n",
    "\n",
    "\n",
    "masses = np.array(masses)"
   ]
  },
  {
   "cell_type": "code",
   "execution_count": 5,
   "id": "04bbf5ad-5cee-41fd-b457-22424b0c9a77",
   "metadata": {},
   "outputs": [
    {
     "name": "stdout",
     "output_type": "stream",
     "text": [
      "The analytical free integral is 1.06738178968e-10.\n",
      "Computed 5 1PT values in 0.17866 seconds.\n"
     ]
    }
   ],
   "source": [
    "int_free_analytical = 4*np.pi*1.803*Tnu**3\n",
    "print(f\"The analytical free integral is {int_free_analytical:.12}.\")\n",
    "\n",
    "mertsch = {}\n",
    "mertsch_data_labels = ['nfw', 'nfw_baryons', 'nfw_baryons_virgo', 'nfw_baryons_virgo_andromeda']\n",
    "for label in mertsch_data_labels:\n",
    "    mertsch[label] = np.genfromtxt('../data/mertsch_'+label+'.txt', delimiter=', ')\n",
    "\n",
    "first_list = []\n",
    "tic = time()\n",
    "for mass in masses:\n",
    "    val = py_first_order(mass, z_ini, rtols, atols, r_here, Gauss_Laguerre, Tnu)\n",
    "    first_list.append(val)\n",
    "toc = time()\n",
    "print(f\"Computed {len(masses)} 1PT values in {toc - tic:.5} seconds.\")\n",
    "first = np.array(first_list)/int_free_analytical"
   ]
  },
  {
   "cell_type": "markdown",
   "id": "40213555-efc7-41e5-9390-47681e9f9528",
   "metadata": {},
   "source": [
    "# With second order"
   ]
  },
  {
   "cell_type": "code",
   "execution_count": 6,
   "id": "1f7402ba-3c63-4455-a3ec-64ac622ecbc6",
   "metadata": {},
   "outputs": [
    {
     "name": "stdout",
     "output_type": "stream",
     "text": [
      "Computed 10 2PT values in 63.147 seconds.\n"
     ]
    }
   ],
   "source": [
    "#second_vlasov_list = []\n",
    "second_kft_list = []\n",
    "tic = time()\n",
    "for mass in masses:\n",
    "#    val2 = py_second_order_vlasov(mass, z_ini, rtols_2, atols_2, r_here, Gauss_Laguerre, Tnu)\n",
    "#    second_vlasov_list.append(val2)\n",
    "    val2 = py_second_order_kft(mass, z_ini, rtols_2, atols_2, r_here, Gauss_Laguerre, Tnu)\n",
    "    second_kft_list.append(val2)\n",
    "toc = time()\n",
    "print(f\"Computed {2*len(masses)} 2PT values in {toc - tic:.5} seconds.\")\n",
    "#second_vlasov = (np.array(first_list) + np.array(second_vlasov_list))/int_free_analytical\n",
    "second_kft = (np.array(first_list) + np.array(second_kft_list))/int_free_analytical"
   ]
  },
  {
   "cell_type": "code",
   "execution_count": 7,
   "id": "3922fb2b-3476-4b82-9c2e-9efb197d1427",
   "metadata": {},
   "outputs": [
    {
     "name": "stderr",
     "output_type": "stream",
     "text": [
      "/var/folders/zr/zbvzsdtx4kzb3_fpksfqd3xx5jyp_x/T/ipykernel_50737/1796905734.py:4: UserWarning: cmr10 font should ideally be used with mathtext, set axes.formatter.use_mathtext to True\n",
      "  fig, ax = plt.subplots(1, 1, figsize=[5, 3])\n"
     ]
    },
    {
     "data": {
      "image/png": "[encoded data removed]",
      "text/plain": [
       "<Figure size 360x216 with 1 Axes>"
      ]
     },
     "metadata": {
      "needs_background": "light"
     },
     "output_type": "display_data"
    }
   ],
   "source": [
    "masses = np.array(masses)\n",
    "lwidth=2\n",
    "mss=8\n",
    "fig, ax = plt.subplots(1, 1, figsize=[5, 3])\n",
    "ax.plot(mertsch['nfw'][:, 0]*1e-3, mertsch['nfw'][:, 1], '-', label=f\"Mertsch+2019\", lw=lwidth)\n",
    "ax.plot(masses, first, 'r--', markersize=mss, label='1PT', lw=lwidth)\n",
    "#ax.plot(masses, second_vlasov, 'c.-', markersize=mss, label='2PT Vlasov', lw=lwidth)\n",
    "ax.plot(masses, second_kft, 'm.-', markersize=mss, label='2PT KFT', lw=lwidth)\n",
    "ax.set(xlabel='m [eV]', ylabel=r'$n_\\nu / n_{\\nu,0}$', xscale='log', yscale='log', xlim=[1e-3, 8e-1], ylim=[1e-4, 1e+3], xticks=[1e-2, 3e-2, 1e-1, 3e-1], yticks=[1e-3, 1e-2, 1e-1, 1e-0, 1e+1])\n",
    "ax.set(xlim=[min(masses)*45, max(masses)])\n",
    "ax.legend(frameon=True, bbox_to_anchor=(0.5, 1.1), ncol=4, loc='center')\n",
    "ax.grid()\n",
    "fig.subplots_adjust(bottom=0.2205, left=0.195)\n",
    "fig.savefig('second.pdf')"
   ]
  },
  {
   "cell_type": "markdown",
   "id": "d8ad1699-0cc8-4576-8622-cae5ceadd203",
   "metadata": {},
   "source": [
    "### NB: Currently omitting the Kepler potential, i.e. only using NFW profile."
   ]
  },
  {
   "cell_type": "markdown",
   "id": "3fc7ca02",
   "metadata": {},
   "source": [
    "# Second order, individual terms, Vlasov"
   ]
  },
  {
   "cell_type": "code",
   "execution_count": 8,
   "id": "b904b1db",
   "metadata": {},
   "outputs": [
    {
     "name": "stdout",
     "output_type": "stream",
     "text": [
      "Computed 10 2PT values in 10.689 seconds.\n"
     ]
    }
   ],
   "source": [
    "vlasov_term1_list = []\n",
    "vlasov_term2_list = []\n",
    "tic = time()\n",
    "for mass in masses:\n",
    "    val1 = py_second_order_vlasov(mass, z_ini, rtols_2, atols_2, r_here, Gauss_Laguerre, terms_flag=1, Tnu=Tnu)\n",
    "    vlasov_term1_list.append(val1)\n",
    "    val2 = py_second_order_vlasov(mass, z_ini, rtols_2, atols_2, r_here, Gauss_Laguerre, terms_flag=2, Tnu=Tnu)\n",
    "    vlasov_term2_list.append(val2)\n",
    "toc = time()\n",
    "print(f\"Computed {2*len(masses)} 2PT values in {toc - tic:.5} seconds.\")\n",
    "vlasov_term1 = (np.array(first_list) + np.array(vlasov_term1_list))/int_free_analytical\n",
    "vlasov_term2 = (np.array(first_list) + np.array(vlasov_term2_list))/int_free_analytical"
   ]
  },
  {
   "cell_type": "code",
   "execution_count": 9,
   "id": "348853e9",
   "metadata": {},
   "outputs": [
    {
     "name": "stderr",
     "output_type": "stream",
     "text": [
      "/var/folders/zr/zbvzsdtx4kzb3_fpksfqd3xx5jyp_x/T/ipykernel_50737/3194870752.py:4: UserWarning: cmr10 font should ideally be used with mathtext, set axes.formatter.use_mathtext to True\n",
      "  fig, ax = plt.subplots(1, 1, figsize=[5, 3])\n"
     ]
    },
    {
     "data": {
      "image/png": "[encoded data removed]",
      "text/plain": [
       "<Figure size 360x216 with 1 Axes>"
      ]
     },
     "metadata": {
      "needs_background": "light"
     },
     "output_type": "display_data"
    }
   ],
   "source": [
    "masses = np.array(masses)\n",
    "lwidth=2\n",
    "mss=8\n",
    "fig, ax = plt.subplots(1, 1, figsize=[5, 3])\n",
    "ax.plot(mertsch['nfw'][:, 0]*1e-3, mertsch['nfw'][:, 1], '-', label=f\"Mertsch+2019\", lw=lwidth)\n",
    "ax.plot(masses, first, 'r--', markersize=mss, label='1PT', lw=lwidth)\n",
    "ax.plot(masses, vlasov_term1, '.-', markersize=mss, label='2PT Vlasov term 1', lw=lwidth)\n",
    "ax.plot(masses, vlasov_term2, '.-', markersize=mss, label='2PT Vlasov term 2', lw=lwidth)\n",
    "ax.set(xlabel='m [eV]', ylabel=r'$n_\\nu / n_{\\nu,0}$', xscale='log', yscale='log', xlim=[1e-3, 8e-1], ylim=[1e-4, 1e+3], xticks=[1e-2, 3e-2, 1e-1, 3e-1], yticks=[1e-3, 1e-2, 1e-1, 1e-0, 1e+1])\n",
    "ax.set(xlim=[min(masses)*45, max(masses)])\n",
    "ax.legend(frameon=True, bbox_to_anchor=(0.5, 1.1), ncol=2, loc='center')\n",
    "ax.grid()\n",
    "fig.subplots_adjust(bottom=0.2205, left=0.195)\n",
    "fig.savefig('vlasov_terms.pdf')"
   ]
  },
  {
   "cell_type": "markdown",
   "id": "09317325",
   "metadata": {},
   "source": [
    "# Second order, individual terms, KFT"
   ]
  },
  {
   "cell_type": "code",
   "execution_count": 10,
   "id": "7035a01d",
   "metadata": {},
   "outputs": [
    {
     "name": "stdout",
     "output_type": "stream",
     "text": [
      "Computed 20 2PT values in 40.776 seconds.\n"
     ]
    }
   ],
   "source": [
    "kft_term1_list = []\n",
    "kft_term2_list = []\n",
    "kft_term3_list = []\n",
    "kft_term4_list = []\n",
    "tic = time()\n",
    "for mass in masses:\n",
    "    val1 = py_second_order_kft(mass, z_ini, rtols_2, atols_2, r_here, Gauss_Laguerre, terms_flag=1, Tnu=Tnu)\n",
    "    kft_term1_list.append(val1)\n",
    "    val2 = py_second_order_kft(mass, z_ini, rtols_2, atols_2, r_here, Gauss_Laguerre, terms_flag=2, Tnu=Tnu)\n",
    "    kft_term2_list.append(val2)\n",
    "    val3 = py_second_order_kft(mass, z_ini, rtols_2, atols_2, r_here, Gauss_Laguerre, terms_flag=3, Tnu=Tnu)\n",
    "    kft_term3_list.append(val3)\n",
    "    val4 = py_second_order_kft(mass, z_ini, rtols_2, atols_2, r_here, Gauss_Laguerre, terms_flag=4, Tnu=Tnu)\n",
    "    kft_term4_list.append(val4)\n",
    "toc = time()\n",
    "print(f\"Computed {4*len(masses)} 2PT values in {toc - tic:.5} seconds.\")\n",
    "kft_term1 = (np.array(first_list) + np.array(kft_term1_list))/int_free_analytical\n",
    "kft_term2 = (np.array(first_list) + np.array(kft_term2_list))/int_free_analytical\n",
    "kft_term3 = (np.array(first_list) + np.array(kft_term3_list))/int_free_analytical\n",
    "kft_term4 = (np.array(first_list) + np.array(kft_term4_list))/int_free_analytical"
   ]
  },
  {
   "cell_type": "code",
   "execution_count": 11,
   "id": "3cc15d96",
   "metadata": {},
   "outputs": [
    {
     "name": "stderr",
     "output_type": "stream",
     "text": [
      "/var/folders/zr/zbvzsdtx4kzb3_fpksfqd3xx5jyp_x/T/ipykernel_50737/1626801792.py:4: UserWarning: cmr10 font should ideally be used with mathtext, set axes.formatter.use_mathtext to True\n",
      "  fig, ax = plt.subplots(1, 1, figsize=[5, 3])\n"
     ]
    },
    {
     "data": {
      "image/png": "[encoded data removed]",
      "text/plain": [
       "<Figure size 360x216 with 1 Axes>"
      ]
     },
     "metadata": {
      "needs_background": "light"
     },
     "output_type": "display_data"
    }
   ],
   "source": [
    "masses = np.array(masses)\n",
    "lwidth=2\n",
    "mss=8\n",
    "fig, ax = plt.subplots(1, 1, figsize=[5, 3])\n",
    "ax.plot(mertsch['nfw'][:, 0]*1e-3, mertsch['nfw'][:, 1], '-', label=f\"Mertsch+2019\", lw=lwidth)\n",
    "ax.plot(masses, first, 'r--', markersize=mss, label='1PT', lw=lwidth)\n",
    "ax.plot(masses, kft_term1, '.-', markersize=mss, label='2PT KFT term 1', lw=lwidth)\n",
    "ax.plot(masses, kft_term2, '.-', markersize=mss, label='2PT KFT term 2', lw=lwidth)\n",
    "ax.plot(masses, kft_term3, '.-', markersize=mss, label='2PT KFT term 3', lw=lwidth)\n",
    "ax.plot(masses, kft_term4, '.-', markersize=mss, label='2PT KFT term 4', lw=lwidth)\n",
    "ax.set(xlabel='m [eV]', ylabel=r'$n_\\nu / n_{\\nu,0}$', xscale='log', yscale='log', xlim=[1e-3, 8e-1], ylim=[1e-4, 1e+3], xticks=[1e-2, 3e-2, 1e-1, 3e-1], yticks=[1e-3, 1e-2, 1e-1, 1e-0, 1e+1])\n",
    "ax.set(xlim=[min(masses)*45, max(masses)])\n",
    "ax.legend(frameon=True, bbox_to_anchor=(0.5, 1.1), ncol=2, loc='center')\n",
    "ax.grid()\n",
    "fig.subplots_adjust(bottom=0.2205, left=0.195)\n",
    "fig.savefig('kft_terms.pdf')"
   ]
  },
  {
   "cell_type": "code",
   "execution_count": null,
   "id": "0f3516a5",
   "metadata": {},
   "outputs": [],
   "source": []
  }
 ],
 "metadata": {
  "kernelspec": {
   "display_name": "Python 3 (ipykernel)",
   "language": "python",
   "name": "python3"
  },
  "language_info": {
   "codemirror_mode": {
    "name": "ipython",
    "version": 3
   },
   "file_extension": ".py",
   "mimetype": "text/x-python",
   "name": "python",
   "nbconvert_exporter": "python",
   "pygments_lexer": "ipython3",
   "version": "3.10.5"
  }
 },
 "nbformat": 4,
 "nbformat_minor": 5
}
