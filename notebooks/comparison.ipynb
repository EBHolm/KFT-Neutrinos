{
 "cells": [
  {
   "cell_type": "code",
   "execution_count": 1,
   "id": "f80f2063-fd95-4a04-af58-2a0b86df85c5",
   "metadata": {},
   "outputs": [],
   "source": [
    "from time import time\n",
    "import numpy as np\n",
    "import matplotlib.pyplot as plt\n",
    "import matplotlib\n",
    "#import sys\n",
    "#sys.path.insert(0,'../source/')"
   ]
  },
  {
   "cell_type": "code",
   "execution_count": 2,
   "id": "da0b1b6f-1d47-4afc-a0a5-4bb5c61dfe03",
   "metadata": {},
   "outputs": [],
   "source": [
    "import kftneutrinos\n",
    "from kftneutrinos import py_first_order, py_first_integrand_y\n",
    "from kftneutrinos import py_second_order"
   ]
  },
  {
   "cell_type": "code",
   "execution_count": 16,
   "id": "f5cb97ca-d9c7-4d7c-ac84-beb202038bae",
   "metadata": {},
   "outputs": [],
   "source": [
    "# The textwidth should be that of your TeX document, in pts (points).\n",
    "# To get it, place\n",
    "#   \\showthe\\textwidth\n",
    "# inside your TeX document, recompile and search the logs.\n",
    "# To grab it directly, compile your document using\n",
    "#   pdflatex -interaction=nonstopmode document.tex | grep '>.*pt\\.'\n",
    "height = 2\n",
    "fontsize = 11/1.2\n",
    "fontsize = 11/1.2*4\n",
    "cm = 1/2.54  # centimeters in inches\n",
    "width = 8.6*cm # PRL figure width\n",
    "\n",
    "latex_preamble = r'''\n",
    "    \\usepackage{lmodern}\n",
    "    \\usepackage{amsmath}\n",
    "    \\usepackage{amsfonts}\n",
    "    \\usepackage{mathtools}\n",
    "    \\usepackage{siunitx}\n",
    "'''\n",
    "matplotlib.rcParams.update({\n",
    "    'text.usetex'        : True,\n",
    "    'font.family'        : 'serif',\n",
    "    'font.serif'         : 'cmr10',\n",
    "    'font.size'          : fontsize,\n",
    "    'mathtext.fontset'   : 'cm',\n",
    "    'text.latex.preamble': latex_preamble,\n",
    "})\n",
    "Hubbles_to_Gyr = 0.001022"
   ]
  },
  {
   "cell_type": "markdown",
   "id": "391164f2-abf2-4390-aca7-70cdb0a9bc43",
   "metadata": {},
   "source": [
    "**-------Input-------**"
   ]
  },
  {
   "cell_type": "code",
   "execution_count": 4,
   "id": "f2c17c59-d0de-4883-b6dc-bb6ec752d7ec",
   "metadata": {},
   "outputs": [],
   "source": [
    "r_here = 8.0\n",
    "z_ini = 3.0\n",
    "Tnu = 0.0001676375864435959\n",
    "\n",
    "masses = [0.0005, 0.001, 0.005, 0.01, 0.05, 0.1, 0.3]\n",
    "masses = [0.005, 0.05, 0.1, 0.3]\n",
    "# masses = np.logspace(-4, -0.2, 15)\n",
    "\n",
    "Gauss_Laguerre = 80\n",
    "rtols = np.array([1e-7, 1e-5, 1e-5])\n",
    "atols = np.array([1e-35, 1e-35, 1e-35])\n",
    "\n",
    "rtols_2 = np.array([1e-5, 1e-3, 1e-3, 1e-3])\n",
    "atols_2 = np.array([1e-35, 1e-35, 1e-35, 1e-35])"
   ]
  },
  {
   "cell_type": "code",
   "execution_count": 5,
   "id": "04bbf5ad-5cee-41fd-b457-22424b0c9a77",
   "metadata": {},
   "outputs": [
    {
     "name": "stdout",
     "output_type": "stream",
     "text": [
      "The analytical free integral is 1.06738178968e-10.\n"
     ]
    }
   ],
   "source": [
    "int_free_analytical = 4*np.pi*1.803*Tnu**3\n",
    "print(f\"The analytical free integral is {int_free_analytical:.12}.\")"
   ]
  },
  {
   "cell_type": "markdown",
   "id": "3fddc397-4035-4611-b498-d32e89d0c48b",
   "metadata": {},
   "source": [
    "## Plots"
   ]
  },
  {
   "cell_type": "code",
   "execution_count": 6,
   "id": "93331a8c-7557-41e8-bdfb-076acbaa46a6",
   "metadata": {},
   "outputs": [],
   "source": [
    "mertsch = {}\n",
    "mertsch_data_labels = ['nfw', 'nfw_baryons', 'nfw_baryons_virgo', 'nfw_baryons_virgo_andromeda']\n",
    "for label in mertsch_data_labels:\n",
    "    mertsch[label] = np.genfromtxt('../data/mertsch_'+label+'.txt', delimiter=', ')"
   ]
  },
  {
   "cell_type": "markdown",
   "id": "2566a192-2b29-4d4d-9995-4fc4594ef48e",
   "metadata": {},
   "source": [
    "# First order only"
   ]
  },
  {
   "cell_type": "code",
   "execution_count": 7,
   "id": "49152fc9-2fe6-4f57-86c6-aec589563729",
   "metadata": {},
   "outputs": [
    {
     "name": "stdout",
     "output_type": "stream",
     "text": [
      "Computed 4 1PT values in 0.23873 seconds.\n"
     ]
    }
   ],
   "source": [
    "first_list = []\n",
    "tic = time()\n",
    "for mass in masses:\n",
    "    val = py_first_order(mass, z_ini, rtols, atols, r_here, Gauss_Laguerre, Tnu)\n",
    "    first_list.append(val)\n",
    "toc = time()\n",
    "print(f\"Computed {len(masses)} 1PT values in {toc - tic:.5} seconds.\")\n",
    "first = np.array(first_list)/int_free_analytical"
   ]
  },
  {
   "cell_type": "code",
   "execution_count": 8,
   "id": "c88fc3b2-563b-4ff6-a10b-56605dfa0744",
   "metadata": {},
   "outputs": [
    {
     "name": "stderr",
     "output_type": "stream",
     "text": [
      "/var/folders/zr/zbvzsdtx4kzb3_fpksfqd3xx5jyp_x/T/ipykernel_6283/47491237.py:3: UserWarning: cmr10 font should ideally be used with mathtext, set axes.formatter.use_mathtext to True\n",
      "  fig, ax = plt.subplots(1, 1, figsize=[width, height])\n"
     ]
    },
    {
     "data": {
      "image/png": "[encoded data removed]",
      "text/plain": [
       "<Figure size 243.78x144 with 1 Axes>"
      ]
     },
     "metadata": {
      "needs_background": "light"
     },
     "output_type": "display_data"
    }
   ],
   "source": [
    "masses = np.array(masses)\n",
    "\n",
    "fig, ax = plt.subplots(1, 1, figsize=[width, height])\n",
    "ax.plot(mertsch['nfw'][:, 0]*1e-3, mertsch['nfw'][:, 1], '-', lw=1.4, label=f\"Mertsch+2019\")\n",
    "ax.plot(masses, first, 'r--', markersize=8, label='1PT')\n",
    "ax.set(xlabel=r'$m$ [eV]', ylabel=r'$n_\\nu / n_{\\nu,0} - 1$', xscale='log', yscale='log', xlim=[4e-3, 6e-1], ylim=[3e-4, 6e+1], xticks=[1e-2, 3e-2, 1e-1, 3e-1], yticks=[1e-3, 1e-2, 1e-1, 1e-0, 1e+1])\n",
    "ax.grid()\n",
    "#ax.axvline(x=0.06, label='minimum mass')\n",
    "ax.legend(frameon=True)\n",
    "fig.subplots_adjust(bottom=0.2205, left=0.195)\n",
    "fig.savefig('first.pdf')"
   ]
  },
  {
   "cell_type": "code",
   "execution_count": 9,
   "id": "9c1a5a69-aa69-4e0c-b722-c124e10d57d3",
   "metadata": {},
   "outputs": [],
   "source": [
    "#ylist = np.linspace(0.00001, 20, 100)\n",
    "ylist = np.logspace(-5, 3, 1000)\n",
    "rtols_y = np.array([1e-8, 1e-8])\n",
    "atols_y = np.array([1e-35, 1e-35])\n",
    "masses_y = [0.05, 0.1, 0.3]\n",
    "integrands = []\n",
    "for mass in masses_y:\n",
    "    new_list = []\n",
    "    for y in ylist:\n",
    "        new_integrand = py_first_integrand_y(y, mass, z_ini, rtols_y, atols_y, r_here, Gauss_Laguerre, Tnu)\n",
    "        new_list.append(new_integrand)\n",
    "    integrands.append(new_list)"
   ]
  },
  {
   "cell_type": "code",
   "execution_count": 10,
   "id": "24e8bb30-32d0-47ac-8d35-2d1b29f49f9c",
   "metadata": {},
   "outputs": [
    {
     "name": "stderr",
     "output_type": "stream",
     "text": [
      "/var/folders/zr/zbvzsdtx4kzb3_fpksfqd3xx5jyp_x/T/ipykernel_6283/265502864.py:2: UserWarning: cmr10 font should ideally be used with mathtext, set axes.formatter.use_mathtext to True\n",
      "  fig, ax = plt.subplots(1, 1, figsize=[width, height])\n",
      "/var/folders/zr/zbvzsdtx4kzb3_fpksfqd3xx5jyp_x/T/ipykernel_6283/265502864.py:7: RuntimeWarning: overflow encountered in exp\n",
      "  ax.plot(ylist, 4e-10/(1 + np.exp(ylist)), 'k--', lw=0.8, label='Fermi-Dirac')\n"
     ]
    },
    {
     "data": {
      "image/png": "[encoded data removed]",
      "text/plain": [
       "<Figure size 243.78x144 with 1 Axes>"
      ]
     },
     "metadata": {
      "needs_background": "light"
     },
     "output_type": "display_data"
    }
   ],
   "source": [
    "colors = ['k', 'b', 'r']\n",
    "fig, ax = plt.subplots(1, 1, figsize=[width, height])\n",
    "for idx, mass in enumerate(masses_y):\n",
    "    ax.plot(ylist, integrands[idx], '-', color=colors[idx], label=fr\"$m={mass}$ eV\")\n",
    "ax.set(xlim=[np.min(ylist), np.max(ylist)], xlabel=r'$y=p/T$', ylabel=r'$\\mathrm{d} \\delta n /\\mathrm{d}y$', \n",
    "       xscale='log', yscale='log', ylim=[1e-13, 1e-7])\n",
    "ax.plot(ylist, 4e-10/(1 + np.exp(ylist)), 'k--', lw=0.8, label='Fermi-Dirac')\n",
    "ax.grid(False); ax.legend(loc='upper center', ncol=2, fontsize=8)\n",
    "ax.text(3e-5, 1.5e-11, r'$\\propto y^2$')\n",
    "fig.subplots_adjust(bottom=0.2205, left=0.195)\n",
    "fig.savefig('first_y.pdf')"
   ]
  },
  {
   "cell_type": "markdown",
   "id": "40213555-efc7-41e5-9390-47681e9f9528",
   "metadata": {},
   "source": [
    "# With second order"
   ]
  },
  {
   "cell_type": "code",
   "execution_count": 11,
   "id": "1f7402ba-3c63-4455-a3ec-64ac622ecbc6",
   "metadata": {},
   "outputs": [
    {
     "name": "stdout",
     "output_type": "stream",
     "text": [
      "Computed 4 2PT values in 129.19 seconds.\n"
     ]
    }
   ],
   "source": [
    "second_list = []\n",
    "tic = time()\n",
    "for mass in masses:\n",
    "    val2 = py_second_order(mass, z_ini, rtols_2, atols_2, r_here, Gauss_Laguerre, Tnu)\n",
    "    second_list.append(val2)\n",
    "toc = time()\n",
    "print(f\"Computed {len(masses)} 2PT values in {toc - tic:.5} seconds.\")\n",
    "second = (np.array(first_list) + np.array(second_list))/int_free_analytical"
   ]
  },
  {
   "cell_type": "code",
   "execution_count": 19,
   "id": "3922fb2b-3476-4b82-9c2e-9efb197d1427",
   "metadata": {},
   "outputs": [
    {
     "name": "stderr",
     "output_type": "stream",
     "text": [
      "/var/folders/zr/zbvzsdtx4kzb3_fpksfqd3xx5jyp_x/T/ipykernel_6283/2171121895.py:4: UserWarning: cmr10 font should ideally be used with mathtext, set axes.formatter.use_mathtext to True\n",
      "  fig, ax = plt.subplots(1, 1, figsize=[10, 6])\n"
     ]
    },
    {
     "data": {
      "image/png": "[encoded data removed]",
      "text/plain": [
       "<Figure size 720x432 with 1 Axes>"
      ]
     },
     "metadata": {
      "needs_background": "light"
     },
     "output_type": "display_data"
    }
   ],
   "source": [
    "masses = np.array(masses)\n",
    "lwidth=4\n",
    "#fig, ax = plt.subplots(1, 1, figsize=[width, height])\n",
    "fig, ax = plt.subplots(1, 1, figsize=[10, 6])\n",
    "ax.plot(mertsch['nfw'][:, 0]*1e-3, mertsch['nfw'][:, 1], '-', label=f\"Mertsch+2019\", lw=lwidth)\n",
    "ax.plot(masses, first, 'r--', markersize=8, label='1PT', lw=lwidth)\n",
    "ax.plot(masses, second, 'c--', markersize=8, label='2PT', lw=lwidth)\n",
    "ax.set(xlabel='m [eV]', ylabel=r'$n_\\nu / n_{\\nu,0}$', xscale='log', yscale='log', xlim=[1e-3, 8e-1], ylim=[1e-4, 1e+3], xticks=[1e-2, 3e-2, 1e-1, 3e-1], yticks=[1e-3, 1e-2, 1e-1, 1e-0, 1e+1])\n",
    "#ax.axvline(x=0.06, label='minimum mass')\n",
    "ax.legend(frameon=True, bbox_to_anchor=(0.5, 1.1), ncol=3, loc='center')\n",
    "ax.grid()\n",
    "fig.subplots_adjust(bottom=0.2205, left=0.195)\n",
    "fig.savefig('second.pdf')"
   ]
  },
  {
   "cell_type": "code",
   "execution_count": 13,
   "id": "68170c6b-89ed-47a7-bdda-644825329932",
   "metadata": {},
   "outputs": [
    {
     "name": "stderr",
     "output_type": "stream",
     "text": [
      "/var/folders/zr/zbvzsdtx4kzb3_fpksfqd3xx5jyp_x/T/ipykernel_6283/2694921806.py:1: UserWarning: cmr10 font should ideally be used with mathtext, set axes.formatter.use_mathtext to True\n",
      "  fig, ax = plt.subplots(1, 1, figsize=[10, 6])\n",
      "/var/folders/zr/zbvzsdtx4kzb3_fpksfqd3xx5jyp_x/T/ipykernel_6283/2694921806.py:3: UserWarning: cmr10 font should ideally be used with mathtext, set axes.formatter.use_mathtext to True\n",
      "  ax.set(xlabel='m [eV]', ylabel='second/first', xscale='log', yscale='linear')\n"
     ]
    },
    {
     "data": {
      "text/plain": [
       "[Text(0.5, 0, 'm [eV]'), Text(0, 0.5, 'second/first'), None, None]"
      ]
     },
     "execution_count": 13,
     "metadata": {},
     "output_type": "execute_result"
    },
    {
     "data": {
      "image/png": "[encoded data removed]",
      "text/plain": [
       "<Figure size 720x432 with 1 Axes>"
      ]
     },
     "metadata": {
      "needs_background": "light"
     },
     "output_type": "display_data"
    }
   ],
   "source": [
    "fig, ax = plt.subplots(1, 1, figsize=[10, 6])\n",
    "ax.plot(masses, second/first, 'k-')\n",
    "ax.set(xlabel='m [eV]', ylabel='second/first', xscale='log', yscale='linear')"
   ]
  },
  {
   "cell_type": "code",
   "execution_count": null,
   "id": "d0a8c6a6-70f3-4c66-ad30-004e0180fa75",
   "metadata": {},
   "outputs": [],
   "source": []
  }
 ],
 "metadata": {
  "kernelspec": {
   "display_name": "Python 3 (ipykernel)",
   "language": "python",
   "name": "python3"
  },
  "language_info": {
   "codemirror_mode": {
    "name": "ipython",
    "version": 3
   },
   "file_extension": ".py",
   "mimetype": "text/x-python",
   "name": "python",
   "nbconvert_exporter": "python",
   "pygments_lexer": "ipython3",
   "version": "3.10.5"
  }
 },
 "nbformat": 4,
 "nbformat_minor": 5
}
