{
 "cells": [
  {
   "cell_type": "markdown",
   "id": "884464bd-f074-4615-994d-dd51f7edd9dc",
   "metadata": {},
   "source": [
    "### Notebook for computing the relic neutrino density using first and second order perturbation theory in KFT"
   ]
  },
  {
   "cell_type": "code",
   "execution_count": 1,
   "id": "83b3431c-3598-4e79-9d56-8400c329be2c",
   "metadata": {},
   "outputs": [],
   "source": [
    "from time import time\n",
    "import numpy as np\n",
    "import matplotlib.pyplot as plt\n",
    "import matplotlib\n",
    "import sys\n",
    "\n",
    "font = {'size'   : 22}\n",
    "matplotlib.rc(\"font\", **font)\n",
    "matplotlib.rc([\"text.usetex\", True])\n",
    "\n",
    "\n",
    "sys.path.insert(0,'../source/')\n",
    "import model \n",
    "import perturbation\n",
    "import utils"
   ]
  },
  {
   "cell_type": "markdown",
   "id": "9336d7d4-9d57-4d34-9cb3-e0b891c576e0",
   "metadata": {},
   "source": [
    "-------- **Specify input below** --------"
   ]
  },
  {
   "cell_type": "code",
   "execution_count": 2,
   "id": "eac01c36-5ffb-4c1e-b70a-a5ec0b3fc467",
   "metadata": {},
   "outputs": [],
   "source": [
    "x_here = np.array([8.0, 0.0, 0.0])\n",
    "mass = 0.05\n",
    "\n",
    "# precision parameters\n",
    "N_z1 = 5000  # amount of first order redshift bins (requires ~O(7500) for first order convergence)\n",
    "N_z2 = 100   # amount of redshift bins in second order computation\n",
    "N_theta, N_phi = 1, 1\n",
    "N_y_exact = 10\n",
    "\n",
    "y_binning_method = 'laggauss' # options: linear, log, laggauss\n",
    "y_max = 10 # only used when method is not laggauss\n",
    "eps   = 1e-3  # step-size for numerical differentiation of particle trajectories\n",
    "atol  = 1e-12 # precision parameters for the shooting algorithm\n",
    "rtol  = 1e-14\n",
    "\n",
    "z_ini = 3"
   ]
  },
  {
   "cell_type": "markdown",
   "id": "902a030e-a562-46e1-956f-66343caba010",
   "metadata": {},
   "source": [
    "-------- **Automatic from here** --------"
   ]
  },
  {
   "cell_type": "code",
   "execution_count": 3,
   "id": "6a1f801c-695e-4c45-bf31-50896b4068da",
   "metadata": {},
   "outputs": [
    {
     "name": "stdout",
     "output_type": "stream",
     "text": [
      "The analytical free integral is 1.07e-10.\n"
     ]
    }
   ],
   "source": [
    "z_span = [z_ini, 0]\n",
    "bins   = [N_y_exact, N_theta, N_phi]\n",
    "model.mnu = mass\n",
    "\n",
    "int_free_analytical = 4*np.pi*1.803*model.Tnu**3\n",
    "print(f\"The analytical free integral is {int_free_analytical:.3}.\")"
   ]
  },
  {
   "cell_type": "markdown",
   "id": "c7c74e53-ae5e-4787-8cc2-5d8f7617378c",
   "metadata": {},
   "source": [
    "**First order calculation**"
   ]
  },
  {
   "cell_type": "code",
   "execution_count": 4,
   "id": "82e6a095-c1ac-4514-91de-476fb7dfe46a",
   "metadata": {},
   "outputs": [
    {
     "name": "stdout",
     "output_type": "stream",
     "text": [
      "First order: At m=0.05 eV: direct=1.8843e-10 with bins=[10, 1, 1] after 1.502 seconds\n",
      "direct/free = 1.7654\n"
     ]
    }
   ],
   "source": [
    "timer = time()\n",
    "int_first, dets_first = perturbation.get_first_order_integral(bins, model.Tnu, x_here, z_span, N_z1, z_binning='log', logz_min=-10)\n",
    "print(f\"First order: At m={mass:.5} eV: direct={int_first:.5} with bins={bins} after {time() - timer:.4} seconds\")\n",
    "print(f\"direct/free = {int_first/int_free_analytical:.5}\")"
   ]
  },
  {
   "cell_type": "markdown",
   "id": "49541b6a-d453-4cca-b3a1-e0a7306ced0c",
   "metadata": {},
   "source": [
    "**Second order calculation**"
   ]
  },
  {
   "cell_type": "code",
   "execution_count": 5,
   "id": "94abbc0a-e105-4078-9022-293af5416eb4",
   "metadata": {},
   "outputs": [
    {
     "name": "stdout",
     "output_type": "stream",
     "text": [
      "Second order: At m=0.05 eV: direct=1.9071e-10 with bins=[10, 1, 1] after 4.324 seconds\n",
      "direct/free = 1.7867\n"
     ]
    }
   ],
   "source": [
    "timer = time()\n",
    "int_second, dets_second = perturbation.get_second_order_integral(bins, model.Tnu, x_here, z_span, N_z2)\n",
    "print(f\"Second order: At m={mass:.5} eV: direct={int_second:.5} with bins={bins} after {time() - timer:.4} seconds\")\n",
    "print(f\"direct/free = {int_second/int_free_analytical:.5}\")"
   ]
  },
  {
   "cell_type": "code",
   "execution_count": null,
   "id": "57be98ee-ac6e-40b2-9c34-ea43f3f8d124",
   "metadata": {},
   "outputs": [],
   "source": []
  }
 ],
 "metadata": {
  "kernelspec": {
   "display_name": "Python 3 (ipykernel)",
   "language": "python",
   "name": "python3"
  },
  "language_info": {
   "codemirror_mode": {
    "name": "ipython",
    "version": 3
   },
   "file_extension": ".py",
   "mimetype": "text/x-python",
   "name": "python",
   "nbconvert_exporter": "python",
   "pygments_lexer": "ipython3",
   "version": "3.10.5"
  }
 },
 "nbformat": 4,
 "nbformat_minor": 5
}
