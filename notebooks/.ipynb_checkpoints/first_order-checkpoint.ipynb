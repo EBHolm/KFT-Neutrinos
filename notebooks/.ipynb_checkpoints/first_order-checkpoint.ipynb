{
 "cells": [
  {
   "cell_type": "code",
   "execution_count": 1,
   "id": "f80f2063-fd95-4a04-af58-2a0b86df85c5",
   "metadata": {},
   "outputs": [],
   "source": [
    "from time import time\n",
    "import numpy as np\n",
    "import matplotlib.pyplot as plt\n",
    "import matplotlib\n",
    "import scipy"
   ]
  },
  {
   "cell_type": "markdown",
   "id": "d468bbf1-4edf-408d-8146-efca7333b78b",
   "metadata": {},
   "source": [
    "# Calculation of the local relic density in first order perturbation theory of kinetic field theory"
   ]
  },
  {
   "cell_type": "code",
   "execution_count": 2,
   "id": "da0b1b6f-1d47-4afc-a0a5-4bb5c61dfe03",
   "metadata": {},
   "outputs": [],
   "source": [
    "import kftneutrinos\n",
    "from kftneutrinos import py_first_order"
   ]
  },
  {
   "cell_type": "code",
   "execution_count": 3,
   "id": "f5cb97ca-d9c7-4d7c-ac84-beb202038bae",
   "metadata": {},
   "outputs": [],
   "source": [
    "# The textwidth should be that of your TeX document, in pts (points).\n",
    "# To get it, place\n",
    "#   \\showthe\\textwidth\n",
    "# inside your TeX document, recompile and search the logs.\n",
    "# To grab it directly, compile your document using\n",
    "#   pdflatex -interaction=nonstopmode document.tex | grep '>.*pt\\.'\n",
    "height = 2\n",
    "fontsize = 11/1.2\n",
    "cm = 1/2.54  # centimeters in inches\n",
    "width = 8.6*cm # PRL figure width\n",
    "\n",
    "latex_preamble = r'''\n",
    "    \\usepackage{lmodern}\n",
    "    \\usepackage{amsmath}\n",
    "    \\usepackage{amsfonts}\n",
    "    \\usepackage{mathtools}\n",
    "    \\usepackage{siunitx}\n",
    "'''\n",
    "matplotlib.rcParams.update({\n",
    "    'text.usetex'        : True,\n",
    "    'font.family'        : 'serif',\n",
    "    'font.serif'         : 'cmr10',\n",
    "    'font.size'          : fontsize,\n",
    "    'mathtext.fontset'   : 'cm',\n",
    "    'text.latex.preamble': latex_preamble,\n",
    "})\n",
    "Hubbles_to_Gyr = 0.001022"
   ]
  },
  {
   "cell_type": "markdown",
   "id": "391164f2-abf2-4390-aca7-70cdb0a9bc43",
   "metadata": {},
   "source": [
    "**-------Input-------**"
   ]
  },
  {
   "cell_type": "code",
   "execution_count": 4,
   "id": "f2c17c59-d0de-4883-b6dc-bb6ec752d7ec",
   "metadata": {},
   "outputs": [],
   "source": [
    "r_here = 8.2\n",
    "z_ini = 3.0\n",
    "Tnu = 0.0001676375864435959\n",
    "\n",
    "masses = np.logspace(-4, -0.2, 10)\n",
    "\n",
    "Gauss_Laguerre = 80\n",
    "rtols = np.array([1e-7, 1e-5, 1e-5])\n",
    "atols = np.array([1e-35, 1e-35, 1e-35])"
   ]
  },
  {
   "cell_type": "code",
   "execution_count": 5,
   "id": "04bbf5ad-5cee-41fd-b457-22424b0c9a77",
   "metadata": {},
   "outputs": [
    {
     "name": "stdout",
     "output_type": "stream",
     "text": [
      "The analytical free integral is 1.06738178968e-10.\n"
     ]
    }
   ],
   "source": [
    "int_free_analytical = 4*np.pi*1.803*Tnu**3\n",
    "print(f\"The analytical free integral is {int_free_analytical:.12}.\")"
   ]
  },
  {
   "cell_type": "code",
   "execution_count": 6,
   "id": "93331a8c-7557-41e8-bdfb-076acbaa46a6",
   "metadata": {},
   "outputs": [],
   "source": [
    "mertsch = {}\n",
    "mertsch_data_labels = ['nfw']\n",
    "for label in mertsch_data_labels:\n",
    "    mertsch[label] = np.genfromtxt('../data/mertsch_'+label+'.txt', delimiter=', ')"
   ]
  },
  {
   "cell_type": "code",
   "execution_count": 7,
   "id": "49152fc9-2fe6-4f57-86c6-aec589563729",
   "metadata": {},
   "outputs": [
    {
     "name": "stdout",
     "output_type": "stream",
     "text": [
      "Computed 10 1PT values in 0.45429 seconds.\n"
     ]
    }
   ],
   "source": [
    "first_list = []\n",
    "tic = time()\n",
    "for mass in masses:\n",
    "    val = py_first_order(mass, z_ini, rtols, atols, r_here, Gauss_Laguerre, Tnu)\n",
    "    first_list.append(val)\n",
    "toc = time()\n",
    "print(f\"Computed {len(masses)} 1PT values in {toc - tic:.5} seconds.\")\n",
    "first = np.array(first_list)/int_free_analytical"
   ]
  },
  {
   "cell_type": "code",
   "execution_count": 8,
   "id": "268bd6de-74ac-4de5-8fa7-f9ac5b710321",
   "metadata": {},
   "outputs": [
    {
     "name": "stderr",
     "output_type": "stream",
     "text": [
      "/var/folders/zr/zbvzsdtx4kzb3_fpksfqd3xx5jyp_x/T/ipykernel_22474/2194030712.py:4: RuntimeWarning: divide by zero encountered in log10\n",
      "  log_first_interp = scipy.interpolate.interp1d(np.log10(masses), np.log10(first), kind=interp_kind, fill_value=\"extrapolate\")(np.log10(mcont))\n",
      "/var/folders/zr/zbvzsdtx4kzb3_fpksfqd3xx5jyp_x/T/ipykernel_22474/2194030712.py:6: UserWarning: cmr10 font should ideally be used with mathtext, set axes.formatter.use_mathtext to True\n",
      "  fig, ax = plt.subplots(2, 1, figsize=[1*width, 1.5*height], gridspec_kw={'height_ratios': [2, 1]})\n",
      "/var/folders/zr/zbvzsdtx4kzb3_fpksfqd3xx5jyp_x/T/ipykernel_22474/2194030712.py:13: UserWarning: cmr10 font should ideally be used with mathtext, set axes.formatter.use_mathtext to True\n",
      "  ax[1].set(xlabel=r'$m_\\nu$ [eV]', ylabel=r'$n_\\mathrm{KFT}/n_\\mathrm{ref} - 1$', xscale='log', yscale='linear', xlim=[4e-3, np.max(masses)], xticks=[1e-2, 3e-2, 1e-1, 3e-1], ylim=[-0.5, 0.1], yticks=[-0.5, -0.25, 0.0])\n"
     ]
    },
    {
     "data": {
      "image/png": "[encoded data removed]",
      "text/plain": [
       "<Figure size 243.78x216 with 2 Axes>"
      ]
     },
     "metadata": {
      "needs_background": "light"
     },
     "output_type": "display_data"
    }
   ],
   "source": [
    "interp_kind = 'linear'\n",
    "mcont = np.logspace(np.min(np.log10(mertsch['nfw'][:, 0]*1e-3)), np.max(np.log10(mertsch['nfw'][:, 0]*1e-3)), 1000)\n",
    "log_mertsch = scipy.interpolate.interp1d(np.log10(mertsch['nfw'][:, 0]*1e-3), np.log10(mertsch['nfw'][:, 1]), fill_value=\"extrapolate\", kind=interp_kind)(np.log10(mcont))\n",
    "log_first_interp = scipy.interpolate.interp1d(np.log10(masses), np.log10(first), kind=interp_kind, fill_value=\"extrapolate\")(np.log10(mcont))\n",
    "\n",
    "fig, ax = plt.subplots(2, 1, figsize=[1*width, 1.5*height], gridspec_kw={'height_ratios': [2, 1]})\n",
    "ax[0].plot(mertsch['nfw'][:, 0]*1e-3, mertsch['nfw'][:, 1], 'b-', lw=1.4, label=f\"Mertsch+2019\")\n",
    "ax[0].plot(masses, first, 'r--', markersize=8, label='This work')\n",
    "ax[0].set(ylabel=r'$n / \\bar{n} - 1$', xscale='log', yscale='log', xlim=[4e-3, np.max(masses)], xticks=[1e-2, 3e-2, 1e-1, 3e-1], ylim=[2e-4, 1e+1], yticks=[1e-3, 1e-2, 1e-1, 1e-0, 1e+1])\n",
    "ax[0].grid()\n",
    "ax[0].legend(frameon=True, fontsize=8)\n",
    "ax[1].plot(mcont, (10**log_first_interp + 1)/(10**log_mertsch + 1) - 1, 'k-', lw=1.4)\n",
    "ax[1].set(xlabel=r'$m_\\nu$ [eV]', ylabel=r'$n_\\mathrm{KFT}/n_\\mathrm{ref} - 1$', xscale='log', yscale='linear', xlim=[4e-3, np.max(masses)], xticks=[1e-2, 3e-2, 1e-1, 3e-1], ylim=[-0.5, 0.1], yticks=[-0.5, -0.25, 0.0])\n",
    "ax[1].grid()\n",
    "fig.subplots_adjust(bottom=0.15, left=0.195, hspace=0)\n",
    "fig.savefig('first.pdf')"
   ]
  },
  {
   "cell_type": "code",
   "execution_count": null,
   "id": "d0a8c6a6-70f3-4c66-ad30-004e0180fa75",
   "metadata": {},
   "outputs": [],
   "source": []
  }
 ],
 "metadata": {
  "kernelspec": {
   "display_name": "Python 3 (ipykernel)",
   "language": "python",
   "name": "python3"
  },
  "language_info": {
   "codemirror_mode": {
    "name": "ipython",
    "version": 3
   },
   "file_extension": ".py",
   "mimetype": "text/x-python",
   "name": "python",
   "nbconvert_exporter": "python",
   "pygments_lexer": "ipython3",
   "version": "3.10.5"
  }
 },
 "nbformat": 4,
 "nbformat_minor": 5
}
