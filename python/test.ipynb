{
 "cells": [
  {
   "cell_type": "code",
   "execution_count": 1,
   "id": "b69c5b52-d1ef-4bd3-ba17-0b8402542c34",
   "metadata": {},
   "outputs": [],
   "source": [
    "import numpy as np \n",
    "from time import time\n",
    "from kftneutrinos import py_first_order"
   ]
  },
  {
   "cell_type": "code",
   "execution_count": 15,
   "id": "faac7552-4c27-46da-b575-167d779ad180",
   "metadata": {},
   "outputs": [
    {
     "name": "stdout",
     "output_type": "stream",
     "text": [
      "Gauss-Kronrod: At m=0.1 eV: 1.211461695 after 0.5639 seconds\n"
     ]
    }
   ],
   "source": [
    "x_here = np.array([0.0, 0.0, 8.0])\n",
    "mnu = 0.1\n",
    "Tnu = 0.0001676375864435959\n",
    "z_ini = 3.0\n",
    "z_span = [0, z_ini]\n",
    "rtols = np.array([1e-15, 1e-12, 1e-12])\n",
    "atols = np.array([1e-35, 1e-35, 1e-35])\n",
    "GaussLaguerre = 50\n",
    "\n",
    "int_free_analytical = 4*np.pi*1.803*Tnu**3\n",
    "\n",
    "timer = time()\n",
    "int_cpp = py_first_order(z_ini, mnu, rtols, atols, x_here, GaussLaguerre)\n",
    "print(f\"Gauss-Kronrod: At m={mnu:.5} eV: {int_cpp/int_free_analytical + 1:.10} after {time() - timer:.4} seconds\")"
   ]
  },
  {
   "cell_type": "code",
   "execution_count": null,
   "id": "243b16f8-1b5d-452f-b37b-7d71ca96b393",
   "metadata": {},
   "outputs": [],
   "source": []
  }
 ],
 "metadata": {
  "kernelspec": {
   "display_name": "Python 3 (ipykernel)",
   "language": "python",
   "name": "python3"
  },
  "language_info": {
   "codemirror_mode": {
    "name": "ipython",
    "version": 3
   },
   "file_extension": ".py",
   "mimetype": "text/x-python",
   "name": "python",
   "nbconvert_exporter": "python",
   "pygments_lexer": "ipython3",
   "version": "3.10.5"
  }
 },
 "nbformat": 4,
 "nbformat_minor": 5
}
